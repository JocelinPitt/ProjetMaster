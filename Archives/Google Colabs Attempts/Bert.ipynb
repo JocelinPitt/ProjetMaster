{
 "nbformat": 4,
 "nbformat_minor": 0,
 "metadata": {
  "colab": {
   "name": "Bert.ipynb",
   "provenance": [],
   "toc_visible": true,
   "authorship_tag": "ABX9TyPOEJvOzEk1bfBoV34EPwEr"
  },
  "kernelspec": {
   "name": "python3",
   "display_name": "Python 3"
  },
  "accelerator": "TPU",
  "widgets": {
   "application/vnd.jupyter.widget-state+json": {
    "d99ec0c2f54f4fb9a9d89992bdab18d7": {
     "model_module": "@jupyter-widgets/controls",
     "model_name": "HBoxModel",
     "state": {
      "_view_name": "HBoxView",
      "_dom_classes": [],
      "_model_name": "HBoxModel",
      "_view_module": "@jupyter-widgets/controls",
      "_model_module_version": "1.5.0",
      "_view_count": null,
      "_view_module_version": "1.5.0",
      "box_style": "",
      "layout": "IPY_MODEL_5266dc3e987f402e813455bb6f306910",
      "_model_module": "@jupyter-widgets/controls",
      "children": [
       "IPY_MODEL_11bee0bcb1ec496ea209daa043cc946a",
       "IPY_MODEL_50f49a8b69f24d05b62b6d8445455ef8"
      ]
     }
    },
    "5266dc3e987f402e813455bb6f306910": {
     "model_module": "@jupyter-widgets/base",
     "model_name": "LayoutModel",
     "state": {
      "_view_name": "LayoutView",
      "grid_template_rows": null,
      "right": null,
      "justify_content": null,
      "_view_module": "@jupyter-widgets/base",
      "overflow": null,
      "_model_module_version": "1.2.0",
      "_view_count": null,
      "flex_flow": null,
      "width": null,
      "min_width": null,
      "border": null,
      "align_items": null,
      "bottom": null,
      "_model_module": "@jupyter-widgets/base",
      "top": null,
      "grid_column": null,
      "overflow_y": null,
      "overflow_x": null,
      "grid_auto_flow": null,
      "grid_area": null,
      "grid_template_columns": null,
      "flex": null,
      "_model_name": "LayoutModel",
      "justify_items": null,
      "grid_row": null,
      "max_height": null,
      "align_content": null,
      "visibility": null,
      "align_self": null,
      "height": null,
      "min_height": null,
      "padding": null,
      "grid_auto_rows": null,
      "grid_gap": null,
      "max_width": null,
      "order": null,
      "_view_module_version": "1.2.0",
      "grid_template_areas": null,
      "object_position": null,
      "object_fit": null,
      "grid_auto_columns": null,
      "margin": null,
      "display": null,
      "left": null
     }
    },
    "11bee0bcb1ec496ea209daa043cc946a": {
     "model_module": "@jupyter-widgets/controls",
     "model_name": "FloatProgressModel",
     "state": {
      "_view_name": "ProgressView",
      "style": "IPY_MODEL_7bb8646b54884d13b1fb87a4686961c2",
      "_dom_classes": [],
      "description": "Downloading: 100%",
      "_model_name": "FloatProgressModel",
      "bar_style": "success",
      "max": 231508,
      "_view_module": "@jupyter-widgets/controls",
      "_model_module_version": "1.5.0",
      "value": 231508,
      "_view_count": null,
      "_view_module_version": "1.5.0",
      "orientation": "horizontal",
      "min": 0,
      "description_tooltip": null,
      "_model_module": "@jupyter-widgets/controls",
      "layout": "IPY_MODEL_9d1eb4f9bd744c488fea7c064e08e81e"
     }
    },
    "50f49a8b69f24d05b62b6d8445455ef8": {
     "model_module": "@jupyter-widgets/controls",
     "model_name": "HTMLModel",
     "state": {
      "_view_name": "HTMLView",
      "style": "IPY_MODEL_b227956d70224050b5b17d220e99e6df",
      "_dom_classes": [],
      "description": "",
      "_model_name": "HTMLModel",
      "placeholder": "​",
      "_view_module": "@jupyter-widgets/controls",
      "_model_module_version": "1.5.0",
      "value": " 232k/232k [00:00&lt;00:00, 1.32MB/s]",
      "_view_count": null,
      "_view_module_version": "1.5.0",
      "description_tooltip": null,
      "_model_module": "@jupyter-widgets/controls",
      "layout": "IPY_MODEL_89278039fd934ee9ac0313086c1b4500"
     }
    },
    "7bb8646b54884d13b1fb87a4686961c2": {
     "model_module": "@jupyter-widgets/controls",
     "model_name": "ProgressStyleModel",
     "state": {
      "_view_name": "StyleView",
      "_model_name": "ProgressStyleModel",
      "description_width": "initial",
      "_view_module": "@jupyter-widgets/base",
      "_model_module_version": "1.5.0",
      "_view_count": null,
      "_view_module_version": "1.2.0",
      "bar_color": null,
      "_model_module": "@jupyter-widgets/controls"
     }
    },
    "9d1eb4f9bd744c488fea7c064e08e81e": {
     "model_module": "@jupyter-widgets/base",
     "model_name": "LayoutModel",
     "state": {
      "_view_name": "LayoutView",
      "grid_template_rows": null,
      "right": null,
      "justify_content": null,
      "_view_module": "@jupyter-widgets/base",
      "overflow": null,
      "_model_module_version": "1.2.0",
      "_view_count": null,
      "flex_flow": null,
      "width": null,
      "min_width": null,
      "border": null,
      "align_items": null,
      "bottom": null,
      "_model_module": "@jupyter-widgets/base",
      "top": null,
      "grid_column": null,
      "overflow_y": null,
      "overflow_x": null,
      "grid_auto_flow": null,
      "grid_area": null,
      "grid_template_columns": null,
      "flex": null,
      "_model_name": "LayoutModel",
      "justify_items": null,
      "grid_row": null,
      "max_height": null,
      "align_content": null,
      "visibility": null,
      "align_self": null,
      "height": null,
      "min_height": null,
      "padding": null,
      "grid_auto_rows": null,
      "grid_gap": null,
      "max_width": null,
      "order": null,
      "_view_module_version": "1.2.0",
      "grid_template_areas": null,
      "object_position": null,
      "object_fit": null,
      "grid_auto_columns": null,
      "margin": null,
      "display": null,
      "left": null
     }
    },
    "b227956d70224050b5b17d220e99e6df": {
     "model_module": "@jupyter-widgets/controls",
     "model_name": "DescriptionStyleModel",
     "state": {
      "_view_name": "StyleView",
      "_model_name": "DescriptionStyleModel",
      "description_width": "",
      "_view_module": "@jupyter-widgets/base",
      "_model_module_version": "1.5.0",
      "_view_count": null,
      "_view_module_version": "1.2.0",
      "_model_module": "@jupyter-widgets/controls"
     }
    },
    "89278039fd934ee9ac0313086c1b4500": {
     "model_module": "@jupyter-widgets/base",
     "model_name": "LayoutModel",
     "state": {
      "_view_name": "LayoutView",
      "grid_template_rows": null,
      "right": null,
      "justify_content": null,
      "_view_module": "@jupyter-widgets/base",
      "overflow": null,
      "_model_module_version": "1.2.0",
      "_view_count": null,
      "flex_flow": null,
      "width": null,
      "min_width": null,
      "border": null,
      "align_items": null,
      "bottom": null,
      "_model_module": "@jupyter-widgets/base",
      "top": null,
      "grid_column": null,
      "overflow_y": null,
      "overflow_x": null,
      "grid_auto_flow": null,
      "grid_area": null,
      "grid_template_columns": null,
      "flex": null,
      "_model_name": "LayoutModel",
      "justify_items": null,
      "grid_row": null,
      "max_height": null,
      "align_content": null,
      "visibility": null,
      "align_self": null,
      "height": null,
      "min_height": null,
      "padding": null,
      "grid_auto_rows": null,
      "grid_gap": null,
      "max_width": null,
      "order": null,
      "_view_module_version": "1.2.0",
      "grid_template_areas": null,
      "object_position": null,
      "object_fit": null,
      "grid_auto_columns": null,
      "margin": null,
      "display": null,
      "left": null
     }
    }
   }
  }
 },
 "cells": [
  {
   "cell_type": "markdown",
   "source": [
    "This is another early attempt to perform personality detection using Bert. Unfortunately, some errors occur\n",
    "when i tried to pass on my own data."
   ],
   "metadata": {
    "collapsed": false
   }
  },
  {
   "cell_type": "markdown",
   "metadata": {
    "id": "Ql9_WeDDFAQ3"
   },
   "source": [
    "#Init"
   ]
  },
  {
   "cell_type": "code",
   "metadata": {
    "id": "X9ZK9fXvl4GY",
    "executionInfo": {
     "status": "ok",
     "timestamp": 1603898783103,
     "user_tz": -60,
     "elapsed": 17729,
     "user": {
      "displayName": "Jocelin pitteloud",
      "photoUrl": "",
      "userId": "16272144833403683875"
     }
    },
    "outputId": "25a0a342-65bd-4950-bccd-6fada7c04f7c",
    "colab": {
     "base_uri": "https://localhost:8080/",
     "height": 807
    }
   },
   "source": [
    "%tensorflow_version 2.x\n",
    "import tensorflow as tf\n",
    "print(\"Tensorflow version \" + str(tf.version))\n",
    "\n",
    "try:\n",
    "  tpu = tf.distribute.cluster_resolver.TPUClusterResolver()  # TPU detection\n",
    "  print('Running on TPU ', tpu.cluster_spec().as_dict()['worker'])\n",
    "except ValueError:\n",
    "  raise BaseException('ERROR: Not connected to a TPU runtime; please see the previous cell in this notebook for instructions!')\n",
    "\n",
    "tf.config.experimental_connect_to_cluster(tpu)\n",
    "tf.tpu.experimental.initialize_tpu_system(tpu)\n",
    "tpu_strategy = tf.distribute.experimental.TPUStrategy(tpu)"
   ],
   "execution_count": 2,
   "outputs": [
    {
     "output_type": "stream",
     "text": [
      "Tensorflow version <module 'tensorflow._api.v2.version' from '/usr/local/lib/python3.6/dist-packages/tensorflow/_api/v2/version/__init__.py'>\n",
      "Running on TPU  ['10.36.180.50:8470']\n",
      "INFO:tensorflow:Initializing the TPU system: grpc://10.36.180.50:8470\n"
     ],
     "name": "stdout"
    },
    {
     "output_type": "stream",
     "text": [
      "INFO:tensorflow:Initializing the TPU system: grpc://10.36.180.50:8470\n"
     ],
     "name": "stderr"
    },
    {
     "output_type": "stream",
     "text": [
      "INFO:tensorflow:Clearing out eager caches\n"
     ],
     "name": "stdout"
    },
    {
     "output_type": "stream",
     "text": [
      "INFO:tensorflow:Clearing out eager caches\n"
     ],
     "name": "stderr"
    },
    {
     "output_type": "stream",
     "text": [
      "INFO:tensorflow:Finished initializing TPU system.\n"
     ],
     "name": "stdout"
    },
    {
     "output_type": "stream",
     "text": [
      "INFO:tensorflow:Finished initializing TPU system.\n",
      "WARNING:absl:`tf.distribute.experimental.TPUStrategy` is deprecated, please use  the non experimental symbol `tf.distribute.TPUStrategy` instead.\n"
     ],
     "name": "stderr"
    },
    {
     "output_type": "stream",
     "text": [
      "INFO:tensorflow:Found TPU system:\n"
     ],
     "name": "stdout"
    },
    {
     "output_type": "stream",
     "text": [
      "INFO:tensorflow:Found TPU system:\n"
     ],
     "name": "stderr"
    },
    {
     "output_type": "stream",
     "text": [
      "INFO:tensorflow:*** Num TPU Cores: 8\n"
     ],
     "name": "stdout"
    },
    {
     "output_type": "stream",
     "text": [
      "INFO:tensorflow:*** Num TPU Cores: 8\n"
     ],
     "name": "stderr"
    },
    {
     "output_type": "stream",
     "text": [
      "INFO:tensorflow:*** Num TPU Workers: 1\n"
     ],
     "name": "stdout"
    },
    {
     "output_type": "stream",
     "text": [
      "INFO:tensorflow:*** Num TPU Workers: 1\n"
     ],
     "name": "stderr"
    },
    {
     "output_type": "stream",
     "text": [
      "INFO:tensorflow:*** Num TPU Cores Per Worker: 8\n"
     ],
     "name": "stdout"
    },
    {
     "output_type": "stream",
     "text": [
      "INFO:tensorflow:*** Num TPU Cores Per Worker: 8\n"
     ],
     "name": "stderr"
    },
    {
     "output_type": "stream",
     "text": [
      "INFO:tensorflow:*** Available Device: _DeviceAttributes(/job:localhost/replica:0/task:0/device:CPU:0, CPU, 0, 0)\n"
     ],
     "name": "stdout"
    },
    {
     "output_type": "stream",
     "text": [
      "INFO:tensorflow:*** Available Device: _DeviceAttributes(/job:localhost/replica:0/task:0/device:CPU:0, CPU, 0, 0)\n"
     ],
     "name": "stderr"
    },
    {
     "output_type": "stream",
     "text": [
      "INFO:tensorflow:*** Available Device: _DeviceAttributes(/job:localhost/replica:0/task:0/device:XLA_CPU:0, XLA_CPU, 0, 0)\n"
     ],
     "name": "stdout"
    },
    {
     "output_type": "stream",
     "text": [
      "INFO:tensorflow:*** Available Device: _DeviceAttributes(/job:localhost/replica:0/task:0/device:XLA_CPU:0, XLA_CPU, 0, 0)\n"
     ],
     "name": "stderr"
    },
    {
     "output_type": "stream",
     "text": [
      "INFO:tensorflow:*** Available Device: _DeviceAttributes(/job:worker/replica:0/task:0/device:CPU:0, CPU, 0, 0)\n"
     ],
     "name": "stdout"
    },
    {
     "output_type": "stream",
     "text": [
      "INFO:tensorflow:*** Available Device: _DeviceAttributes(/job:worker/replica:0/task:0/device:CPU:0, CPU, 0, 0)\n"
     ],
     "name": "stderr"
    },
    {
     "output_type": "stream",
     "text": [
      "INFO:tensorflow:*** Available Device: _DeviceAttributes(/job:worker/replica:0/task:0/device:TPU:0, TPU, 0, 0)\n"
     ],
     "name": "stdout"
    },
    {
     "output_type": "stream",
     "text": [
      "INFO:tensorflow:*** Available Device: _DeviceAttributes(/job:worker/replica:0/task:0/device:TPU:0, TPU, 0, 0)\n"
     ],
     "name": "stderr"
    },
    {
     "output_type": "stream",
     "text": [
      "INFO:tensorflow:*** Available Device: _DeviceAttributes(/job:worker/replica:0/task:0/device:TPU:1, TPU, 0, 0)\n"
     ],
     "name": "stdout"
    },
    {
     "output_type": "stream",
     "text": [
      "INFO:tensorflow:*** Available Device: _DeviceAttributes(/job:worker/replica:0/task:0/device:TPU:1, TPU, 0, 0)\n"
     ],
     "name": "stderr"
    },
    {
     "output_type": "stream",
     "text": [
      "INFO:tensorflow:*** Available Device: _DeviceAttributes(/job:worker/replica:0/task:0/device:TPU:2, TPU, 0, 0)\n"
     ],
     "name": "stdout"
    },
    {
     "output_type": "stream",
     "text": [
      "INFO:tensorflow:*** Available Device: _DeviceAttributes(/job:worker/replica:0/task:0/device:TPU:2, TPU, 0, 0)\n"
     ],
     "name": "stderr"
    },
    {
     "output_type": "stream",
     "text": [
      "INFO:tensorflow:*** Available Device: _DeviceAttributes(/job:worker/replica:0/task:0/device:TPU:3, TPU, 0, 0)\n"
     ],
     "name": "stdout"
    },
    {
     "output_type": "stream",
     "text": [
      "INFO:tensorflow:*** Available Device: _DeviceAttributes(/job:worker/replica:0/task:0/device:TPU:3, TPU, 0, 0)\n"
     ],
     "name": "stderr"
    },
    {
     "output_type": "stream",
     "text": [
      "INFO:tensorflow:*** Available Device: _DeviceAttributes(/job:worker/replica:0/task:0/device:TPU:4, TPU, 0, 0)\n"
     ],
     "name": "stdout"
    },
    {
     "output_type": "stream",
     "text": [
      "INFO:tensorflow:*** Available Device: _DeviceAttributes(/job:worker/replica:0/task:0/device:TPU:4, TPU, 0, 0)\n"
     ],
     "name": "stderr"
    },
    {
     "output_type": "stream",
     "text": [
      "INFO:tensorflow:*** Available Device: _DeviceAttributes(/job:worker/replica:0/task:0/device:TPU:5, TPU, 0, 0)\n"
     ],
     "name": "stdout"
    },
    {
     "output_type": "stream",
     "text": [
      "INFO:tensorflow:*** Available Device: _DeviceAttributes(/job:worker/replica:0/task:0/device:TPU:5, TPU, 0, 0)\n"
     ],
     "name": "stderr"
    },
    {
     "output_type": "stream",
     "text": [
      "INFO:tensorflow:*** Available Device: _DeviceAttributes(/job:worker/replica:0/task:0/device:TPU:6, TPU, 0, 0)\n"
     ],
     "name": "stdout"
    },
    {
     "output_type": "stream",
     "text": [
      "INFO:tensorflow:*** Available Device: _DeviceAttributes(/job:worker/replica:0/task:0/device:TPU:6, TPU, 0, 0)\n"
     ],
     "name": "stderr"
    },
    {
     "output_type": "stream",
     "text": [
      "INFO:tensorflow:*** Available Device: _DeviceAttributes(/job:worker/replica:0/task:0/device:TPU:7, TPU, 0, 0)\n"
     ],
     "name": "stdout"
    },
    {
     "output_type": "stream",
     "text": [
      "INFO:tensorflow:*** Available Device: _DeviceAttributes(/job:worker/replica:0/task:0/device:TPU:7, TPU, 0, 0)\n"
     ],
     "name": "stderr"
    },
    {
     "output_type": "stream",
     "text": [
      "INFO:tensorflow:*** Available Device: _DeviceAttributes(/job:worker/replica:0/task:0/device:TPU_SYSTEM:0, TPU_SYSTEM, 0, 0)\n"
     ],
     "name": "stdout"
    },
    {
     "output_type": "stream",
     "text": [
      "INFO:tensorflow:*** Available Device: _DeviceAttributes(/job:worker/replica:0/task:0/device:TPU_SYSTEM:0, TPU_SYSTEM, 0, 0)\n"
     ],
     "name": "stderr"
    },
    {
     "output_type": "stream",
     "text": [
      "INFO:tensorflow:*** Available Device: _DeviceAttributes(/job:worker/replica:0/task:0/device:XLA_CPU:0, XLA_CPU, 0, 0)\n"
     ],
     "name": "stdout"
    },
    {
     "output_type": "stream",
     "text": [
      "INFO:tensorflow:*** Available Device: _DeviceAttributes(/job:worker/replica:0/task:0/device:XLA_CPU:0, XLA_CPU, 0, 0)\n"
     ],
     "name": "stderr"
    }
   ]
  },
  {
   "cell_type": "code",
   "metadata": {
    "id": "IhP0yhk4pmzK",
    "executionInfo": {
     "status": "ok",
     "timestamp": 1603892724239,
     "user_tz": -60,
     "elapsed": 455,
     "user": {
      "displayName": "Jocelin pitteloud",
      "photoUrl": "",
      "userId": "16272144833403683875"
     }
    },
    "outputId": "52c0307a-998a-428e-caa9-5dd0e40d382f",
    "colab": {
     "base_uri": "https://localhost:8080/",
     "height": 35
    }
   },
   "source": [
    "from google.colab import drive\n",
    "drive.mount('/content/drive')"
   ],
   "execution_count": 5,
   "outputs": [
    {
     "output_type": "stream",
     "text": [
      "Drive already mounted at /content/drive; to attempt to forcibly remount, call drive.mount(\"/content/drive\", force_remount=True).\n"
     ],
     "name": "stdout"
    }
   ]
  },
  {
   "cell_type": "code",
   "metadata": {
    "id": "NaEzCMJRE1QT",
    "executionInfo": {
     "status": "ok",
     "timestamp": 1603892729546,
     "user_tz": -60,
     "elapsed": 515,
     "user": {
      "displayName": "Jocelin pitteloud",
      "photoUrl": "",
      "userId": "16272144833403683875"
     }
    }
   },
   "source": [
    "import re\n",
    "import json\n",
    "import pandas as pd\n",
    "import numpy as np\n",
    "import spacy\n",
    "\n",
    "from numpy import nan"
   ],
   "execution_count": 6,
   "outputs": []
  },
  {
   "cell_type": "code",
   "metadata": {
    "id": "m-BK1CCxp7s7",
    "executionInfo": {
     "status": "ok",
     "timestamp": 1603892864980,
     "user_tz": -60,
     "elapsed": 6787,
     "user": {
      "displayName": "Jocelin pitteloud",
      "photoUrl": "",
      "userId": "16272144833403683875"
     }
    }
   },
   "source": [
    "file = '/content/drive/My Drive/Save_3.txt'\n",
    "\n",
    "with open(file, mode='r+', encoding=\"utf-8\") as script:\n",
    "\tdeveloper = json.load(script)\n",
    "script.close()\n",
    "developer = re.sub(r'null','None',developer)\n",
    "\n",
    "DF1t = pd.DataFrame.from_dict(eval(developer))\n",
    "DF_ScriptPersoFilm = DF1t.T"
   ],
   "execution_count": 12,
   "outputs": []
  },
  {
   "cell_type": "code",
   "metadata": {
    "id": "_DDG3LJU-p8Z",
    "executionInfo": {
     "status": "ok",
     "timestamp": 1603892895505,
     "user_tz": -60,
     "elapsed": 426,
     "user": {
      "displayName": "Jocelin pitteloud",
      "photoUrl": "",
      "userId": "16272144833403683875"
     }
    }
   },
   "source": [
    "Speeches = DF_ScriptPersoFilm['Speech'].tolist()"
   ],
   "execution_count": 15,
   "outputs": []
  },
  {
   "cell_type": "code",
   "metadata": {
    "id": "DOp6b2kLAnNZ",
    "executionInfo": {
     "status": "ok",
     "timestamp": 1603892897405,
     "user_tz": -60,
     "elapsed": 1248,
     "user": {
      "displayName": "Jocelin pitteloud",
      "photoUrl": "",
      "userId": "16272144833403683875"
     }
    }
   },
   "source": [
    "import gensim"
   ],
   "execution_count": 16,
   "outputs": []
  },
  {
   "cell_type": "code",
   "metadata": {
    "id": "CQqDmbIJ5m6p",
    "executionInfo": {
     "status": "ok",
     "timestamp": 1603892906607,
     "user_tz": -60,
     "elapsed": 8636,
     "user": {
      "displayName": "Jocelin pitteloud",
      "photoUrl": "",
      "userId": "16272144833403683875"
     }
    }
   },
   "source": [
    "Idx_toDrop = []\n",
    "for i, speech in enumerate(Speeches):\n",
    "  CleanSp = gensim.utils.simple_preprocess(speech)\n",
    "  try:\n",
    "    if type(CleanSp[0]) is list:\n",
    "      continue\n",
    "  except:\n",
    "    Idx_toDrop.append(i)\n",
    "    continue"
   ],
   "execution_count": 17,
   "outputs": []
  },
  {
   "cell_type": "code",
   "metadata": {
    "id": "lqx0Kacdq7kg",
    "executionInfo": {
     "status": "ok",
     "timestamp": 1603892910497,
     "user_tz": -60,
     "elapsed": 1686,
     "user": {
      "displayName": "Jocelin pitteloud",
      "photoUrl": "",
      "userId": "16272144833403683875"
     }
    }
   },
   "source": [
    "file = '/content/drive/My Drive/Weight_Matrix2.txt'\n",
    "\n",
    "with open(file, mode=\"r\", encoding=\"utf-8\") as script:\n",
    "  \n",
    "  WM_dict = eval(script.read())\n",
    "script.close()\n",
    "\n",
    "Weight_Matrix_DF = pd.DataFrame.from_dict(WM_dict)"
   ],
   "execution_count": 18,
   "outputs": []
  },
  {
   "cell_type": "code",
   "metadata": {
    "id": "oPapGjSE6pQL",
    "executionInfo": {
     "status": "ok",
     "timestamp": 1603892913131,
     "user_tz": -60,
     "elapsed": 575,
     "user": {
      "displayName": "Jocelin pitteloud",
      "photoUrl": "",
      "userId": "16272144833403683875"
     }
    }
   },
   "source": [
    "DF_SPF = DF_ScriptPersoFilm.drop(DF_ScriptPersoFilm.index[Idx_toDrop])"
   ],
   "execution_count": 19,
   "outputs": []
  },
  {
   "cell_type": "code",
   "metadata": {
    "id": "RjDuft-ZE5oh",
    "executionInfo": {
     "status": "ok",
     "timestamp": 1603892923061,
     "user_tz": -60,
     "elapsed": 519,
     "user": {
      "displayName": "Jocelin pitteloud",
      "photoUrl": "",
      "userId": "16272144833403683875"
     }
    }
   },
   "source": [
    "DF_SPF = DF_SPF.reset_index()"
   ],
   "execution_count": 20,
   "outputs": []
  },
  {
   "cell_type": "code",
   "metadata": {
    "id": "J3K-cHhrvMAZ",
    "executionInfo": {
     "status": "ok",
     "timestamp": 1591817923477,
     "user_tz": -120,
     "elapsed": 449,
     "user": {
      "displayName": "Jocelin pitteloud",
      "photoUrl": "",
      "userId": "16272144833403683875"
     }
    },
    "outputId": "7e4ddc0e-ff65-49ea-8b2d-1874cf5d081b",
    "colab": {
     "base_uri": "https://localhost:8080/",
     "height": 72
    }
   },
   "source": [
    "print(len(Weight_Matrix_DF))\n",
    "print(len(DF_ScriptPersoFilm))\n",
    "print(len(DF_SPF))"
   ],
   "execution_count": null,
   "outputs": [
    {
     "output_type": "stream",
     "text": [
      "42922\n",
      "42922\n",
      "42906\n"
     ],
     "name": "stdout"
    }
   ]
  },
  {
   "cell_type": "code",
   "metadata": {
    "id": "QyWCCJFC7zCf",
    "executionInfo": {
     "status": "ok",
     "timestamp": 1603892925865,
     "user_tz": -60,
     "elapsed": 478,
     "user": {
      "displayName": "Jocelin pitteloud",
      "photoUrl": "",
      "userId": "16272144833403683875"
     }
    }
   },
   "source": [
    "Weight_Matrix_DF['Speech'] = DF_ScriptPersoFilm['Speech'].values"
   ],
   "execution_count": 21,
   "outputs": []
  },
  {
   "cell_type": "code",
   "metadata": {
    "id": "zkZzBfdcfhc1",
    "executionInfo": {
     "status": "ok",
     "timestamp": 1603892930420,
     "user_tz": -60,
     "elapsed": 1460,
     "user": {
      "displayName": "Jocelin pitteloud",
      "photoUrl": "",
      "userId": "16272144833403683875"
     }
    },
    "outputId": "8140c949-4e90-4016-8892-270beb7c6f9a",
    "colab": {
     "base_uri": "https://localhost:8080/",
     "height": 35
    }
   },
   "source": [
    "with open('/content/drive/My Drive/CleanSpeeches2.txt', mode=\"r\", encoding=\"utf-8\") as script:\n",
    "  CleanSpeeches = eval(script.read())\n",
    "script.close()\n",
    "print(type(CleanSpeeches))\n",
    "CleanSpeeches = pd.Series(CleanSpeeches)\n",
    "\n",
    "Weight_Matrix_DF['CleanSpeeches'] = CleanSpeeches.values"
   ],
   "execution_count": 22,
   "outputs": [
    {
     "output_type": "stream",
     "text": [
      "<class 'list'>\n"
     ],
     "name": "stdout"
    }
   ]
  },
  {
   "cell_type": "code",
   "metadata": {
    "id": "-QOkNud6fmPs",
    "executionInfo": {
     "status": "ok",
     "timestamp": 1603892936941,
     "user_tz": -60,
     "elapsed": 544,
     "user": {
      "displayName": "Jocelin pitteloud",
      "photoUrl": "",
      "userId": "16272144833403683875"
     }
    },
    "outputId": "c6861e1f-5364-47e0-c8c6-a7a171eb0f17",
    "colab": {
     "base_uri": "https://localhost:8080/",
     "height": 458
    }
   },
   "source": [
    "print(Weight_Matrix_DF['Speech'].head)\n",
    "print(Weight_Matrix_DF['CleanSpeeches'].head)"
   ],
   "execution_count": 23,
   "outputs": [
    {
     "output_type": "stream",
     "text": [
      "<bound method NDFrame.head of 0        Hey -- sorry. Hey -- sorry. Hey -- sorry. Hey ...\n",
      "1        Leave it I said, leave it! Why didn't we just ...\n",
      "2        Did you change your hair? You might wanna thin...\n",
      "3        No. Who? Great Is he oily or dry? Bianca, I do...\n",
      "4                                Hey, Bianca. Hey, Bianca.\n",
      "                               ...                        \n",
      "42917    Come on, let's grab a couple beers. I do love ...\n",
      "42918    Of course, I see you brought your own six-pack...\n",
      "42919    And I don't know what half of who the hell I a...\n",
      "42920          Not too practical. But at least now I know.\n",
      "42921              How about we get a game in before dawn?\n",
      "Name: Speech, Length: 42922, dtype: object>\n",
      "<bound method NDFrame.head of 0                 hey sorry hey sorry hey sorry hey sorry \n",
      "1        leave it said leave it why did we just read th...\n",
      "2        did you change your hair you might wanna think...\n",
      "3        no who great is he oily or dry Bianca don thin...\n",
      "4                                   hey Bianca hey Bianca \n",
      "                               ...                        \n",
      "42917    come on let grab couple beers do love to mess ...\n",
      "42918    of course see you brought your own six pack le...\n",
      "42919    and don know what half of who the hell am don ...\n",
      "42920             not too practical but at least now know \n",
      "42921                how about we get game in before dawn \n",
      "Name: CleanSpeeches, Length: 42922, dtype: object>\n"
     ],
     "name": "stdout"
    }
   ]
  },
  {
   "cell_type": "code",
   "metadata": {
    "id": "_1g8GOyfGHlk",
    "executionInfo": {
     "status": "ok",
     "timestamp": 1603892942072,
     "user_tz": -60,
     "elapsed": 438,
     "user": {
      "displayName": "Jocelin pitteloud",
      "photoUrl": "",
      "userId": "16272144833403683875"
     }
    }
   },
   "source": [
    "WM_DF_dropna = Weight_Matrix_DF.dropna()"
   ],
   "execution_count": 24,
   "outputs": []
  },
  {
   "cell_type": "code",
   "metadata": {
    "id": "6bImzUfTOoO2",
    "executionInfo": {
     "status": "ok",
     "timestamp": 1603892943660,
     "user_tz": -60,
     "elapsed": 432,
     "user": {
      "displayName": "Jocelin pitteloud",
      "photoUrl": "",
      "userId": "16272144833403683875"
     }
    },
    "outputId": "b3005dc4-0b32-4bac-c5aa-c4314f152b75",
    "colab": {
     "base_uri": "https://localhost:8080/",
     "height": 458
    }
   },
   "source": [
    "WM_DF_dropna['1vA_aptitude'] = (WM_DF_dropna['aptitude']>=0).astype(int)\n",
    "WM_DF_dropna['1vA_attention'] = (WM_DF_dropna['attention']>=0).astype(int)\n",
    "WM_DF_dropna['1vA_pleasantness'] = (WM_DF_dropna['pleasantness']>=0).astype(int)\n",
    "WM_DF_dropna['1vA_sensitivity'] = (WM_DF_dropna['sensitivity']>=0).astype(int)"
   ],
   "execution_count": 25,
   "outputs": [
    {
     "output_type": "stream",
     "text": [
      "/usr/local/lib/python3.6/dist-packages/ipykernel_launcher.py:1: SettingWithCopyWarning: \n",
      "A value is trying to be set on a copy of a slice from a DataFrame.\n",
      "Try using .loc[row_indexer,col_indexer] = value instead\n",
      "\n",
      "See the caveats in the documentation: https://pandas.pydata.org/pandas-docs/stable/user_guide/indexing.html#returning-a-view-versus-a-copy\n",
      "  \"\"\"Entry point for launching an IPython kernel.\n",
      "/usr/local/lib/python3.6/dist-packages/ipykernel_launcher.py:2: SettingWithCopyWarning: \n",
      "A value is trying to be set on a copy of a slice from a DataFrame.\n",
      "Try using .loc[row_indexer,col_indexer] = value instead\n",
      "\n",
      "See the caveats in the documentation: https://pandas.pydata.org/pandas-docs/stable/user_guide/indexing.html#returning-a-view-versus-a-copy\n",
      "  \n",
      "/usr/local/lib/python3.6/dist-packages/ipykernel_launcher.py:3: SettingWithCopyWarning: \n",
      "A value is trying to be set on a copy of a slice from a DataFrame.\n",
      "Try using .loc[row_indexer,col_indexer] = value instead\n",
      "\n",
      "See the caveats in the documentation: https://pandas.pydata.org/pandas-docs/stable/user_guide/indexing.html#returning-a-view-versus-a-copy\n",
      "  This is separate from the ipykernel package so we can avoid doing imports until\n",
      "/usr/local/lib/python3.6/dist-packages/ipykernel_launcher.py:4: SettingWithCopyWarning: \n",
      "A value is trying to be set on a copy of a slice from a DataFrame.\n",
      "Try using .loc[row_indexer,col_indexer] = value instead\n",
      "\n",
      "See the caveats in the documentation: https://pandas.pydata.org/pandas-docs/stable/user_guide/indexing.html#returning-a-view-versus-a-copy\n",
      "  after removing the cwd from sys.path.\n"
     ],
     "name": "stderr"
    }
   ]
  },
  {
   "cell_type": "code",
   "metadata": {
    "id": "7QvmbQyvR6SZ",
    "executionInfo": {
     "status": "ok",
     "timestamp": 1603892976055,
     "user_tz": -60,
     "elapsed": 584,
     "user": {
      "displayName": "Jocelin pitteloud",
      "photoUrl": "",
      "userId": "16272144833403683875"
     }
    },
    "outputId": "2083fe43-a961-4241-9b21-de60d8a1ecec",
    "colab": {
     "base_uri": "https://localhost:8080/",
     "height": 164
    }
   },
   "source": [
    "print(WM_DF_dropna.head())"
   ],
   "execution_count": 26,
   "outputs": [
    {
     "output_type": "stream",
     "text": [
      "   pleasantness  attention  ...  1vA_pleasantness  1vA_sensitivity\n",
      "0     -0.057000  -0.398500  ...                 0                0\n",
      "1      0.072277   0.128586  ...                 1                1\n",
      "2      0.103068   0.253503  ...                 1                0\n",
      "3      0.151454   0.089043  ...                 1                0\n",
      "4      0.756000  -1.000000  ...                 1                1\n",
      "\n",
      "[5 rows x 10 columns]\n"
     ],
     "name": "stdout"
    }
   ]
  },
  {
   "cell_type": "markdown",
   "metadata": {
    "id": "YjIYUE0gTJJS"
   },
   "source": [
    "#Bert"
   ]
  },
  {
   "cell_type": "code",
   "metadata": {
    "id": "XSCoeZoyDaLd",
    "executionInfo": {
     "status": "ok",
     "timestamp": 1603892992801,
     "user_tz": -60,
     "elapsed": 8310,
     "user": {
      "displayName": "Jocelin pitteloud",
      "photoUrl": "",
      "userId": "16272144833403683875"
     }
    },
    "outputId": "9693bb9b-1384-49a3-a25d-e0bf541c3a04",
    "colab": {
     "base_uri": "https://localhost:8080/",
     "height": 678
    }
   },
   "source": [
    "pip install transformers"
   ],
   "execution_count": 27,
   "outputs": [
    {
     "output_type": "stream",
     "text": [
      "Collecting transformers\n",
      "\u001B[?25l  Downloading https://files.pythonhosted.org/packages/2c/4e/4f1ede0fd7a36278844a277f8d53c21f88f37f3754abf76a5d6224f76d4a/transformers-3.4.0-py3-none-any.whl (1.3MB)\n",
      "\u001B[K     |████████████████████████████████| 1.3MB 3.2MB/s \n",
      "\u001B[?25hRequirement already satisfied: tqdm>=4.27 in /usr/local/lib/python3.6/dist-packages (from transformers) (4.41.1)\n",
      "Requirement already satisfied: regex!=2019.12.17 in /usr/local/lib/python3.6/dist-packages (from transformers) (2019.12.20)\n",
      "Requirement already satisfied: filelock in /usr/local/lib/python3.6/dist-packages (from transformers) (3.0.12)\n",
      "Collecting sacremoses\n",
      "\u001B[?25l  Downloading https://files.pythonhosted.org/packages/7d/34/09d19aff26edcc8eb2a01bed8e98f13a1537005d31e95233fd48216eed10/sacremoses-0.0.43.tar.gz (883kB)\n",
      "\u001B[K     |████████████████████████████████| 890kB 7.8MB/s \n",
      "\u001B[?25hRequirement already satisfied: packaging in /usr/local/lib/python3.6/dist-packages (from transformers) (20.4)\n",
      "Collecting sentencepiece!=0.1.92\n",
      "\u001B[?25l  Downloading https://files.pythonhosted.org/packages/e5/2d/6d4ca4bef9a67070fa1cac508606328329152b1df10bdf31fb6e4e727894/sentencepiece-0.1.94-cp36-cp36m-manylinux2014_x86_64.whl (1.1MB)\n",
      "\u001B[K     |████████████████████████████████| 1.1MB 16.6MB/s \n",
      "\u001B[?25hCollecting tokenizers==0.9.2\n",
      "\u001B[?25l  Downloading https://files.pythonhosted.org/packages/7c/a5/78be1a55b2ac8d6a956f0a211d372726e2b1dd2666bb537fea9b03abd62c/tokenizers-0.9.2-cp36-cp36m-manylinux1_x86_64.whl (2.9MB)\n",
      "\u001B[K     |████████████████████████████████| 2.9MB 23.8MB/s \n",
      "\u001B[?25hRequirement already satisfied: numpy in /usr/local/lib/python3.6/dist-packages (from transformers) (1.18.5)\n",
      "Requirement already satisfied: protobuf in /usr/local/lib/python3.6/dist-packages (from transformers) (3.12.4)\n",
      "Requirement already satisfied: requests in /usr/local/lib/python3.6/dist-packages (from transformers) (2.23.0)\n",
      "Requirement already satisfied: dataclasses; python_version < \"3.7\" in /usr/local/lib/python3.6/dist-packages (from transformers) (0.7)\n",
      "Requirement already satisfied: six in /usr/local/lib/python3.6/dist-packages (from sacremoses->transformers) (1.15.0)\n",
      "Requirement already satisfied: click in /usr/local/lib/python3.6/dist-packages (from sacremoses->transformers) (7.1.2)\n",
      "Requirement already satisfied: joblib in /usr/local/lib/python3.6/dist-packages (from sacremoses->transformers) (0.17.0)\n",
      "Requirement already satisfied: pyparsing>=2.0.2 in /usr/local/lib/python3.6/dist-packages (from packaging->transformers) (2.4.7)\n",
      "Requirement already satisfied: setuptools in /usr/local/lib/python3.6/dist-packages (from protobuf->transformers) (50.3.0)\n",
      "Requirement already satisfied: idna<3,>=2.5 in /usr/local/lib/python3.6/dist-packages (from requests->transformers) (2.10)\n",
      "Requirement already satisfied: chardet<4,>=3.0.2 in /usr/local/lib/python3.6/dist-packages (from requests->transformers) (3.0.4)\n",
      "Requirement already satisfied: urllib3!=1.25.0,!=1.25.1,<1.26,>=1.21.1 in /usr/local/lib/python3.6/dist-packages (from requests->transformers) (1.24.3)\n",
      "Requirement already satisfied: certifi>=2017.4.17 in /usr/local/lib/python3.6/dist-packages (from requests->transformers) (2020.6.20)\n",
      "Building wheels for collected packages: sacremoses\n",
      "  Building wheel for sacremoses (setup.py) ... \u001B[?25l\u001B[?25hdone\n",
      "  Created wheel for sacremoses: filename=sacremoses-0.0.43-cp36-none-any.whl size=893257 sha256=a8c156b09b4ffec1e0506d4a03f474d17494f0606f0f62b57d560cb026a8a50f\n",
      "  Stored in directory: /root/.cache/pip/wheels/29/3c/fd/7ce5c3f0666dab31a50123635e6fb5e19ceb42ce38d4e58f45\n",
      "Successfully built sacremoses\n",
      "Installing collected packages: sacremoses, sentencepiece, tokenizers, transformers\n",
      "Successfully installed sacremoses-0.0.43 sentencepiece-0.1.94 tokenizers-0.9.2 transformers-3.4.0\n"
     ],
     "name": "stdout"
    }
   ]
  },
  {
   "cell_type": "code",
   "metadata": {
    "id": "FJPhAvUl3lE-",
    "executionInfo": {
     "status": "ok",
     "timestamp": 1603893007997,
     "user_tz": -60,
     "elapsed": 9583,
     "user": {
      "displayName": "Jocelin pitteloud",
      "photoUrl": "",
      "userId": "16272144833403683875"
     }
    },
    "outputId": "9117e7cd-309d-4bd2-e71b-593ffdcf08db",
    "colab": {
     "base_uri": "https://localhost:8080/",
     "height": 439
    }
   },
   "source": [
    "!pip install bert-for-tf2\n",
    "!pip install sentencepiece"
   ],
   "execution_count": 28,
   "outputs": [
    {
     "output_type": "stream",
     "text": [
      "Collecting bert-for-tf2\n",
      "\u001B[?25l  Downloading https://files.pythonhosted.org/packages/18/d3/820ccaf55f1e24b5dd43583ac0da6d86c2d27bbdfffadbba69bafe73ca93/bert-for-tf2-0.14.7.tar.gz (41kB)\n",
      "\r\u001B[K     |████████                        | 10kB 18.0MB/s eta 0:00:01\r\u001B[K     |████████████████                | 20kB 1.9MB/s eta 0:00:01\r\u001B[K     |███████████████████████▉        | 30kB 2.2MB/s eta 0:00:01\r\u001B[K     |███████████████████████████████▉| 40kB 2.5MB/s eta 0:00:01\r\u001B[K     |████████████████████████████████| 51kB 2.1MB/s \n",
      "\u001B[?25hCollecting py-params>=0.9.6\n",
      "  Downloading https://files.pythonhosted.org/packages/a4/bf/c1c70d5315a8677310ea10a41cfc41c5970d9b37c31f9c90d4ab98021fd1/py-params-0.9.7.tar.gz\n",
      "Collecting params-flow>=0.8.0\n",
      "  Downloading https://files.pythonhosted.org/packages/a9/95/ff49f5ebd501f142a6f0aaf42bcfd1c192dc54909d1d9eb84ab031d46056/params-flow-0.8.2.tar.gz\n",
      "Requirement already satisfied: numpy in /usr/local/lib/python3.6/dist-packages (from params-flow>=0.8.0->bert-for-tf2) (1.18.5)\n",
      "Requirement already satisfied: tqdm in /usr/local/lib/python3.6/dist-packages (from params-flow>=0.8.0->bert-for-tf2) (4.41.1)\n",
      "Building wheels for collected packages: bert-for-tf2, py-params, params-flow\n",
      "  Building wheel for bert-for-tf2 (setup.py) ... \u001B[?25l\u001B[?25hdone\n",
      "  Created wheel for bert-for-tf2: filename=bert_for_tf2-0.14.7-cp36-none-any.whl size=30539 sha256=c697299cfcb0c579ecdc0be9567dcb63da77b0512bfed3fa5f973f7005db4006\n",
      "  Stored in directory: /root/.cache/pip/wheels/e1/f8/e2/b98f79a6b8cc898d8e4102b83acb8a098df7d27500a2bac912\n",
      "  Building wheel for py-params (setup.py) ... \u001B[?25l\u001B[?25hdone\n",
      "  Created wheel for py-params: filename=py_params-0.9.7-cp36-none-any.whl size=7304 sha256=9566d8a335f9df2be21ecdd247c0846488fddb889ad5aff05b43c048c4bfbef3\n",
      "  Stored in directory: /root/.cache/pip/wheels/67/f5/19/b461849a50aefdf4bab47c4756596e82ee2118b8278e5a1980\n",
      "  Building wheel for params-flow (setup.py) ... \u001B[?25l\u001B[?25hdone\n",
      "  Created wheel for params-flow: filename=params_flow-0.8.2-cp36-none-any.whl size=19475 sha256=4e3e14346747c9c6ce00795c472840284b4268c3a07a1908705b066106c61493\n",
      "  Stored in directory: /root/.cache/pip/wheels/08/c8/7f/81c86b9ff2b86e2c477e3914175be03e679e596067dc630c06\n",
      "Successfully built bert-for-tf2 py-params params-flow\n",
      "Installing collected packages: py-params, params-flow, bert-for-tf2\n",
      "Successfully installed bert-for-tf2-0.14.7 params-flow-0.8.2 py-params-0.9.7\n",
      "Requirement already satisfied: sentencepiece in /usr/local/lib/python3.6/dist-packages (0.1.94)\n"
     ],
     "name": "stdout"
    }
   ]
  },
  {
   "cell_type": "code",
   "metadata": {
    "id": "6Pyw9lyrNUsB",
    "executionInfo": {
     "status": "ok",
     "timestamp": 1603893017785,
     "user_tz": -60,
     "elapsed": 3411,
     "user": {
      "displayName": "Jocelin pitteloud",
      "photoUrl": "",
      "userId": "16272144833403683875"
     }
    },
    "outputId": "058aaefe-1025-4586-fb92-2cd00fd89cae",
    "colab": {
     "base_uri": "https://localhost:8080/",
     "height": 90
    }
   },
   "source": [
    "!pip install utils"
   ],
   "execution_count": 29,
   "outputs": [
    {
     "output_type": "stream",
     "text": [
      "Collecting utils\n",
      "  Downloading https://files.pythonhosted.org/packages/55/e6/c2d2b2703e7debc8b501caae0e6f7ead148fd0faa3c8131292a599930029/utils-1.0.1-py2.py3-none-any.whl\n",
      "Installing collected packages: utils\n",
      "Successfully installed utils-1.0.1\n"
     ],
     "name": "stdout"
    }
   ]
  },
  {
   "cell_type": "code",
   "metadata": {
    "id": "g1OkxaIx3ivf",
    "executionInfo": {
     "status": "error",
     "timestamp": 1603898133848,
     "user_tz": -60,
     "elapsed": 2691,
     "user": {
      "displayName": "Jocelin pitteloud",
      "photoUrl": "",
      "userId": "16272144833403683875"
     }
    },
    "outputId": "1f813dbe-1903-4852-fb3b-a5ad804fdee2",
    "colab": {
     "base_uri": "https://localhost:8080/",
     "height": 393
    }
   },
   "source": [
    "try:\n",
    "    %tensorflow_version 2.x\n",
    "except Exception:\n",
    "    pass\n",
    "import tensorflow as tf\n",
    "\n",
    "import tensorflow_hub as hub\n",
    "\n",
    "from tensorflow.keras import layers\n",
    "import bert\n",
    "import random\n",
    "import math\n",
    "import transformers\n",
    "import tensorflow_datasets as tfds\n",
    "\n",
    "from transformers import TFBertForSequenceClassification\n",
    "\n",
    "from keras.models import Sequential\n",
    "from keras.wrappers.scikit_learn import KerasRegressor\n",
    "from sklearn.model_selection import cross_val_score\n",
    "from sklearn.model_selection import KFold\n",
    "from sklearn.preprocessing import StandardScaler\n",
    "from sklearn.pipeline import Pipeline\n",
    "\n",
    "from numpy import array\n",
    "from keras.preprocessing.text import one_hot\n",
    "from keras.preprocessing.sequence import pad_sequences\n",
    "from keras.layers.core import Activation, Dropout, Dense\n",
    "from keras.layers import Flatten, LSTM\n",
    "from keras.layers import GlobalMaxPooling1D\n",
    "from keras.models import Model\n",
    "from keras.layers.embeddings import Embedding\n",
    "from sklearn.model_selection import train_test_split\n",
    "from keras.preprocessing.text import Tokenizer\n",
    "from keras.layers import Input\n",
    "from keras.layers.merge import Concatenate\n",
    "from keras import utils\n",
    "\n",
    "import pandas as pd\n",
    "import numpy as np\n",
    "import re\n",
    "\n",
    "import matplotlib.pyplot as plt"
   ],
   "execution_count": 1,
   "outputs": [
    {
     "output_type": "error",
     "ename": "ModuleNotFoundError",
     "evalue": "ignored",
     "traceback": [
      "\u001B[0;31m---------------------------------------------------------------------------\u001B[0m",
      "\u001B[0;31mModuleNotFoundError\u001B[0m                       Traceback (most recent call last)",
      "\u001B[0;32m<ipython-input-1-7cfd636b75e9>\u001B[0m in \u001B[0;36m<module>\u001B[0;34m()\u001B[0m\n\u001B[1;32m      8\u001B[0m \u001B[0;34m\u001B[0m\u001B[0m\n\u001B[1;32m      9\u001B[0m \u001B[0;32mfrom\u001B[0m \u001B[0mtensorflow\u001B[0m\u001B[0;34m.\u001B[0m\u001B[0mkeras\u001B[0m \u001B[0;32mimport\u001B[0m \u001B[0mlayers\u001B[0m\u001B[0;34m\u001B[0m\u001B[0;34m\u001B[0m\u001B[0m\n\u001B[0;32m---> 10\u001B[0;31m \u001B[0;32mimport\u001B[0m \u001B[0mbert\u001B[0m\u001B[0;34m\u001B[0m\u001B[0;34m\u001B[0m\u001B[0m\n\u001B[0m\u001B[1;32m     11\u001B[0m \u001B[0;32mimport\u001B[0m \u001B[0mrandom\u001B[0m\u001B[0;34m\u001B[0m\u001B[0;34m\u001B[0m\u001B[0m\n\u001B[1;32m     12\u001B[0m \u001B[0;32mimport\u001B[0m \u001B[0mmath\u001B[0m\u001B[0;34m\u001B[0m\u001B[0;34m\u001B[0m\u001B[0m\n",
      "\u001B[0;31mModuleNotFoundError\u001B[0m: No module named 'bert'",
      "",
      "\u001B[0;31m---------------------------------------------------------------------------\u001B[0;32m\nNOTE: If your import is failing due to a missing package, you can\nmanually install dependencies using either !pip or !apt.\n\nTo view examples of installing some common dependencies, click the\n\"Open Examples\" button below.\n\u001B[0;31m---------------------------------------------------------------------------\u001B[0m\n"
     ]
    }
   ]
  },
  {
   "cell_type": "code",
   "metadata": {
    "id": "sfOTfNncDGQC",
    "executionInfo": {
     "status": "ok",
     "timestamp": 1603893038809,
     "user_tz": -60,
     "elapsed": 939,
     "user": {
      "displayName": "Jocelin pitteloud",
      "photoUrl": "",
      "userId": "16272144833403683875"
     }
    },
    "outputId": "f59407da-379e-4a85-ebb4-6d788a4b0043",
    "colab": {
     "base_uri": "https://localhost:8080/",
     "height": 124,
     "referenced_widgets": [
      "d99ec0c2f54f4fb9a9d89992bdab18d7",
      "5266dc3e987f402e813455bb6f306910",
      "11bee0bcb1ec496ea209daa043cc946a",
      "50f49a8b69f24d05b62b6d8445455ef8",
      "7bb8646b54884d13b1fb87a4686961c2",
      "9d1eb4f9bd744c488fea7c064e08e81e",
      "b227956d70224050b5b17d220e99e6df",
      "89278039fd934ee9ac0313086c1b4500"
     ]
    }
   },
   "source": [
    "from transformers import BertTokenizer\n",
    "\n",
    "tokenizer = BertTokenizer.from_pretrained('bert-base-uncased', do_lower_case=True)\n",
    "\n",
    "\n",
    "max_length_test = 200\n",
    "test_sentence = 'Test tokenization sentence. Followed by another sentence'\n",
    "\n",
    "# add special tokens\n",
    "test_sentence_with_special_tokens = '[CLS]' + test_sentence + '[SEP]'\n",
    "tokenized = tokenizer.tokenize(test_sentence_with_special_tokens)\n",
    "print('tokenized', tokenized)\n",
    "\n",
    "# convert tokens to ids in WordPiece\n",
    "input_ids = tokenizer.convert_tokens_to_ids(tokenized)\n",
    "  \n",
    "# precalculation of pad length, so that we can reuse it later on\n",
    "padding_length = max_length_test - len(input_ids)\n",
    "\n",
    "# map tokens to WordPiece dictionary and add pad token for those text shorter than our max length\n",
    "input_ids = input_ids + ([0] * padding_length)\n",
    "\n",
    "# attention should focus just on sequence with non padded tokens\n",
    "attention_mask = [1] * len(input_ids)\n",
    "\n",
    "# do not focus attention on padded tokens\n",
    "attention_mask = attention_mask + ([0] * padding_length)\n",
    "\n",
    "# token types, needed for example for question answering, for our purpose we will just set 0 as we have just one sequence\n",
    "token_type_ids = [0] * max_length_test\n",
    "bert_input = {\n",
    "    \"token_ids\": input_ids,\n",
    "    \"token_type_ids\": token_type_ids,\n",
    "    \"attention_mask\": attention_mask\n",
    "} \n",
    "print(bert_input)"
   ],
   "execution_count": 31,
   "outputs": [
    {
     "output_type": "display_data",
     "data": {
      "application/vnd.jupyter.widget-view+json": {
       "model_id": "d99ec0c2f54f4fb9a9d89992bdab18d7",
       "version_minor": 0,
       "version_major": 2
      },
      "text/plain": [
       "HBox(children=(FloatProgress(value=0.0, description='Downloading', max=231508.0, style=ProgressStyle(descripti…"
      ]
     },
     "metadata": {
      "tags": []
     }
    },
    {
     "output_type": "stream",
     "text": [
      "\n",
      "tokenized ['[CLS]', 'test', 'token', '##ization', 'sentence', '.', 'followed', 'by', 'another', 'sentence', '[SEP]']\n",
      "{'token_ids': [101, 3231, 19204, 3989, 6251, 1012, 2628, 2011, 2178, 6251, 102, 0, 0, 0, 0, 0, 0, 0, 0, 0, 0, 0, 0, 0, 0, 0, 0, 0, 0, 0, 0, 0, 0, 0, 0, 0, 0, 0, 0, 0, 0, 0, 0, 0, 0, 0, 0, 0, 0, 0, 0, 0, 0, 0, 0, 0, 0, 0, 0, 0, 0, 0, 0, 0, 0, 0, 0, 0, 0, 0, 0, 0, 0, 0, 0, 0, 0, 0, 0, 0, 0, 0, 0, 0, 0, 0, 0, 0, 0, 0, 0, 0, 0, 0, 0, 0, 0, 0, 0, 0, 0, 0, 0, 0, 0, 0, 0, 0, 0, 0, 0, 0, 0, 0, 0, 0, 0, 0, 0, 0, 0, 0, 0, 0, 0, 0, 0, 0, 0, 0, 0, 0, 0, 0, 0, 0, 0, 0, 0, 0, 0, 0, 0, 0, 0, 0, 0, 0, 0, 0, 0, 0, 0, 0, 0, 0, 0, 0, 0, 0, 0, 0, 0, 0, 0, 0, 0, 0, 0, 0, 0, 0, 0, 0, 0, 0, 0, 0, 0, 0, 0, 0, 0, 0, 0, 0, 0, 0, 0, 0, 0, 0, 0, 0, 0, 0, 0, 0, 0, 0], 'token_type_ids': [0, 0, 0, 0, 0, 0, 0, 0, 0, 0, 0, 0, 0, 0, 0, 0, 0, 0, 0, 0, 0, 0, 0, 0, 0, 0, 0, 0, 0, 0, 0, 0, 0, 0, 0, 0, 0, 0, 0, 0, 0, 0, 0, 0, 0, 0, 0, 0, 0, 0, 0, 0, 0, 0, 0, 0, 0, 0, 0, 0, 0, 0, 0, 0, 0, 0, 0, 0, 0, 0, 0, 0, 0, 0, 0, 0, 0, 0, 0, 0, 0, 0, 0, 0, 0, 0, 0, 0, 0, 0, 0, 0, 0, 0, 0, 0, 0, 0, 0, 0, 0, 0, 0, 0, 0, 0, 0, 0, 0, 0, 0, 0, 0, 0, 0, 0, 0, 0, 0, 0, 0, 0, 0, 0, 0, 0, 0, 0, 0, 0, 0, 0, 0, 0, 0, 0, 0, 0, 0, 0, 0, 0, 0, 0, 0, 0, 0, 0, 0, 0, 0, 0, 0, 0, 0, 0, 0, 0, 0, 0, 0, 0, 0, 0, 0, 0, 0, 0, 0, 0, 0, 0, 0, 0, 0, 0, 0, 0, 0, 0, 0, 0, 0, 0, 0, 0, 0, 0, 0, 0, 0, 0, 0, 0, 0, 0, 0, 0, 0, 0], 'attention_mask': [1, 1, 1, 1, 1, 1, 1, 1, 1, 1, 1, 1, 1, 1, 1, 1, 1, 1, 1, 1, 1, 1, 1, 1, 1, 1, 1, 1, 1, 1, 1, 1, 1, 1, 1, 1, 1, 1, 1, 1, 1, 1, 1, 1, 1, 1, 1, 1, 1, 1, 1, 1, 1, 1, 1, 1, 1, 1, 1, 1, 1, 1, 1, 1, 1, 1, 1, 1, 1, 1, 1, 1, 1, 1, 1, 1, 1, 1, 1, 1, 1, 1, 1, 1, 1, 1, 1, 1, 1, 1, 1, 1, 1, 1, 1, 1, 1, 1, 1, 1, 1, 1, 1, 1, 1, 1, 1, 1, 1, 1, 1, 1, 1, 1, 1, 1, 1, 1, 1, 1, 1, 1, 1, 1, 1, 1, 1, 1, 1, 1, 1, 1, 1, 1, 1, 1, 1, 1, 1, 1, 1, 1, 1, 1, 1, 1, 1, 1, 1, 1, 1, 1, 1, 1, 1, 1, 1, 1, 1, 1, 1, 1, 1, 1, 1, 1, 1, 1, 1, 1, 1, 1, 1, 1, 1, 1, 1, 1, 1, 1, 1, 1, 1, 1, 1, 1, 1, 1, 1, 1, 1, 1, 1, 1, 1, 1, 1, 1, 1, 1, 0, 0, 0, 0, 0, 0, 0, 0, 0, 0, 0, 0, 0, 0, 0, 0, 0, 0, 0, 0, 0, 0, 0, 0, 0, 0, 0, 0, 0, 0, 0, 0, 0, 0, 0, 0, 0, 0, 0, 0, 0, 0, 0, 0, 0, 0, 0, 0, 0, 0, 0, 0, 0, 0, 0, 0, 0, 0, 0, 0, 0, 0, 0, 0, 0, 0, 0, 0, 0, 0, 0, 0, 0, 0, 0, 0, 0, 0, 0, 0, 0, 0, 0, 0, 0, 0, 0, 0, 0, 0, 0, 0, 0, 0, 0, 0, 0, 0, 0, 0, 0, 0, 0, 0, 0, 0, 0, 0, 0, 0, 0, 0, 0, 0, 0, 0, 0, 0, 0, 0, 0, 0, 0, 0, 0, 0, 0, 0, 0, 0, 0, 0, 0, 0, 0, 0, 0, 0, 0, 0, 0, 0, 0, 0, 0, 0, 0, 0, 0, 0, 0, 0, 0, 0, 0, 0, 0, 0, 0, 0, 0, 0, 0, 0, 0, 0, 0, 0, 0, 0, 0, 0, 0, 0, 0, 0, 0, 0, 0, 0, 0, 0, 0, 0, 0, 0, 0, 0, 0]}\n"
     ],
     "name": "stdout"
    }
   ]
  },
  {
   "cell_type": "code",
   "metadata": {
    "id": "XabSe3DXEWP-",
    "executionInfo": {
     "status": "ok",
     "timestamp": 1603893055977,
     "user_tz": -60,
     "elapsed": 430,
     "user": {
      "displayName": "Jocelin pitteloud",
      "photoUrl": "",
      "userId": "16272144833403683875"
     }
    },
    "outputId": "c1794df2-ac5c-4d1e-dcc7-de1b0eba96ad",
    "colab": {
     "base_uri": "https://localhost:8080/",
     "height": 110
    }
   },
   "source": [
    "bert_input = tokenizer.encode_plus(\n",
    "                        test_sentence,                      \n",
    "                        add_special_tokens = True, # add [CLS], [SEP]\n",
    "                        max_length = max_length_test, # max length of the text that can go to BERT\n",
    "                        pad_to_max_length = True, # add [PAD] tokens\n",
    "                        return_attention_mask = True, # add attention mask to not focus on pad tokens\n",
    "              )\n",
    "print('encoded', bert_input)"
   ],
   "execution_count": 32,
   "outputs": [
    {
     "output_type": "stream",
     "text": [
      "Truncation was not explicitely activated but `max_length` is provided a specific value, please use `truncation=True` to explicitely truncate examples to max length. Defaulting to 'longest_first' truncation strategy. If you encode pairs of sequences (GLUE-style) with the tokenizer you can select this strategy more precisely by providing a specific strategy to `truncation`.\n"
     ],
     "name": "stderr"
    },
    {
     "output_type": "stream",
     "text": [
      "encoded {'input_ids': [101, 3231, 19204, 3989, 6251, 1012, 2628, 2011, 2178, 6251, 102, 0, 0, 0, 0, 0, 0, 0, 0, 0, 0, 0, 0, 0, 0, 0, 0, 0, 0, 0, 0, 0, 0, 0, 0, 0, 0, 0, 0, 0, 0, 0, 0, 0, 0, 0, 0, 0, 0, 0, 0, 0, 0, 0, 0, 0, 0, 0, 0, 0, 0, 0, 0, 0, 0, 0, 0, 0, 0, 0, 0, 0, 0, 0, 0, 0, 0, 0, 0, 0, 0, 0, 0, 0, 0, 0, 0, 0, 0, 0, 0, 0, 0, 0, 0, 0, 0, 0, 0, 0, 0, 0, 0, 0, 0, 0, 0, 0, 0, 0, 0, 0, 0, 0, 0, 0, 0, 0, 0, 0, 0, 0, 0, 0, 0, 0, 0, 0, 0, 0, 0, 0, 0, 0, 0, 0, 0, 0, 0, 0, 0, 0, 0, 0, 0, 0, 0, 0, 0, 0, 0, 0, 0, 0, 0, 0, 0, 0, 0, 0, 0, 0, 0, 0, 0, 0, 0, 0, 0, 0, 0, 0, 0, 0, 0, 0, 0, 0, 0, 0, 0, 0, 0, 0, 0, 0, 0, 0, 0, 0, 0, 0, 0, 0, 0, 0, 0, 0, 0, 0], 'token_type_ids': [0, 0, 0, 0, 0, 0, 0, 0, 0, 0, 0, 0, 0, 0, 0, 0, 0, 0, 0, 0, 0, 0, 0, 0, 0, 0, 0, 0, 0, 0, 0, 0, 0, 0, 0, 0, 0, 0, 0, 0, 0, 0, 0, 0, 0, 0, 0, 0, 0, 0, 0, 0, 0, 0, 0, 0, 0, 0, 0, 0, 0, 0, 0, 0, 0, 0, 0, 0, 0, 0, 0, 0, 0, 0, 0, 0, 0, 0, 0, 0, 0, 0, 0, 0, 0, 0, 0, 0, 0, 0, 0, 0, 0, 0, 0, 0, 0, 0, 0, 0, 0, 0, 0, 0, 0, 0, 0, 0, 0, 0, 0, 0, 0, 0, 0, 0, 0, 0, 0, 0, 0, 0, 0, 0, 0, 0, 0, 0, 0, 0, 0, 0, 0, 0, 0, 0, 0, 0, 0, 0, 0, 0, 0, 0, 0, 0, 0, 0, 0, 0, 0, 0, 0, 0, 0, 0, 0, 0, 0, 0, 0, 0, 0, 0, 0, 0, 0, 0, 0, 0, 0, 0, 0, 0, 0, 0, 0, 0, 0, 0, 0, 0, 0, 0, 0, 0, 0, 0, 0, 0, 0, 0, 0, 0, 0, 0, 0, 0, 0, 0], 'attention_mask': [1, 1, 1, 1, 1, 1, 1, 1, 1, 1, 1, 0, 0, 0, 0, 0, 0, 0, 0, 0, 0, 0, 0, 0, 0, 0, 0, 0, 0, 0, 0, 0, 0, 0, 0, 0, 0, 0, 0, 0, 0, 0, 0, 0, 0, 0, 0, 0, 0, 0, 0, 0, 0, 0, 0, 0, 0, 0, 0, 0, 0, 0, 0, 0, 0, 0, 0, 0, 0, 0, 0, 0, 0, 0, 0, 0, 0, 0, 0, 0, 0, 0, 0, 0, 0, 0, 0, 0, 0, 0, 0, 0, 0, 0, 0, 0, 0, 0, 0, 0, 0, 0, 0, 0, 0, 0, 0, 0, 0, 0, 0, 0, 0, 0, 0, 0, 0, 0, 0, 0, 0, 0, 0, 0, 0, 0, 0, 0, 0, 0, 0, 0, 0, 0, 0, 0, 0, 0, 0, 0, 0, 0, 0, 0, 0, 0, 0, 0, 0, 0, 0, 0, 0, 0, 0, 0, 0, 0, 0, 0, 0, 0, 0, 0, 0, 0, 0, 0, 0, 0, 0, 0, 0, 0, 0, 0, 0, 0, 0, 0, 0, 0, 0, 0, 0, 0, 0, 0, 0, 0, 0, 0, 0, 0, 0, 0, 0, 0, 0, 0]}\n"
     ],
     "name": "stdout"
    },
    {
     "output_type": "stream",
     "text": [
      "/usr/local/lib/python3.6/dist-packages/transformers/tokenization_utils_base.py:1944: FutureWarning: The `pad_to_max_length` argument is deprecated and will be removed in a future version, use `padding=True` or `padding='longest'` to pad to the longest sequence in the batch, or use `padding='max_length'` to pad to a max length. In this case, you can give a specific length with `max_length` (e.g. `max_length=45`) or leave max_length to None to pad to the maximal input size of the model (e.g. 512 for Bert).\n",
      "  FutureWarning,\n"
     ],
     "name": "stderr"
    }
   ]
  },
  {
   "cell_type": "code",
   "metadata": {
    "id": "wKmqXsdUGoAA",
    "executionInfo": {
     "status": "ok",
     "timestamp": 1603893079548,
     "user_tz": -60,
     "elapsed": 492,
     "user": {
      "displayName": "Jocelin pitteloud",
      "photoUrl": "",
      "userId": "16272144833403683875"
     }
    }
   },
   "source": [
    "# map to the expected input to TFBertForSequenceClassification, see here \n",
    "def map_example_to_dict(input_ids, attention_masks, token_type_ids, label):\n",
    "  return {\n",
    "      \"input_ids\": input_ids,\n",
    "      \"token_type_ids\": token_type_ids,\n",
    "      \"attention_mask\": attention_masks,\n",
    "  }, label\n",
    "def encode_examples(ds, limit=-1):\n",
    "  # prepare list, so that we can build up final TensorFlow dataset from slices.\n",
    "  input_ids_list = []\n",
    "  token_type_ids_list = []\n",
    "  attention_mask_list = []\n",
    "  label_list = []\n",
    "  if (limit > 0):\n",
    "      ds = ds.take(limit)\n",
    "    \n",
    "  for review, label in tfds.as_numpy(ds):\n",
    "\n",
    "    bert_input = convert_example_to_feature(review.decode())\n",
    "  \n",
    "    input_ids_list.append(bert_input['input_ids'])\n",
    "    token_type_ids_list.append(bert_input['token_type_ids'])\n",
    "    attention_mask_list.append(bert_input['attention_mask'])\n",
    "    label_list.append([label])\n",
    "  return tf.data.Dataset.from_tensor_slices((input_ids_list, attention_mask_list, token_type_ids_list, label_list)).map(map_example_to_dict)"
   ],
   "execution_count": 33,
   "outputs": []
  },
  {
   "cell_type": "markdown",
   "metadata": {
    "id": "EMhrl5YPU5uS"
   },
   "source": [
    "##Attention"
   ]
  },
  {
   "cell_type": "code",
   "metadata": {
    "id": "3JNFBFEXpmFr",
    "executionInfo": {
     "status": "ok",
     "timestamp": 1603893085827,
     "user_tz": -60,
     "elapsed": 425,
     "user": {
      "displayName": "Jocelin pitteloud",
      "photoUrl": "",
      "userId": "16272144833403683875"
     }
    }
   },
   "source": [
    "def preprocess_text(sen):\n",
    "    # Remove punctuations and numbers\n",
    "    sentence = re.sub('[^a-zA-Z]', ' ', sen)\n",
    "\n",
    "    # Single character removal\n",
    "    sentence = re.sub(r\"\\s+[a-zA-Z]\\s+\", ' ', sentence)\n",
    "\n",
    "    # Removing multiple spaces\n",
    "    sentence = re.sub(r'\\s+', ' ', sentence)\n",
    "\n",
    "    return sentence"
   ],
   "execution_count": 34,
   "outputs": []
  },
  {
   "cell_type": "code",
   "metadata": {
    "id": "w0bx20nMdXF1",
    "executionInfo": {
     "status": "ok",
     "timestamp": 1603893094723,
     "user_tz": -60,
     "elapsed": 6919,
     "user": {
      "displayName": "Jocelin pitteloud",
      "photoUrl": "",
      "userId": "16272144833403683875"
     }
    }
   },
   "source": [
    "X = []\n",
    "sentences = WM_DF_dropna[\"Speech\"].to_list()\n",
    "for sen in sentences:\n",
    "  X.append(preprocess_text(sen))\n",
    "y = WM_DF_dropna['1vA_attention'].tolist()\n",
    "\n",
    "X_train, X_test, y_train, y_test = train_test_split(X, y, test_size=0.20, random_state=42)"
   ],
   "execution_count": 35,
   "outputs": []
  },
  {
   "cell_type": "code",
   "metadata": {
    "id": "fK1xqNuIZ1VI"
   },
   "source": [
    "training_dataset = (\n",
    "    tf.data.Dataset.from_tensor_slices(\n",
    "        (\n",
    "            tf.cast(X_train, tf.string),\n",
    "            tf.cast(y_train, tf.int32)\n",
    "        )\n",
    "    )\n",
    ")"
   ],
   "execution_count": null,
   "outputs": []
  },
  {
   "cell_type": "code",
   "metadata": {
    "id": "4vR_R8enfMDL"
   },
   "source": [
    "testing_dataset = (\n",
    "    tf.data.Dataset.from_tensor_slices(\n",
    "        (\n",
    "            tf.cast(X_test, tf.string),\n",
    "            tf.cast(y_test, tf.int32)\n",
    "        )\n",
    "    )\n",
    ")"
   ],
   "execution_count": null,
   "outputs": []
  },
  {
   "cell_type": "code",
   "metadata": {
    "id": "-GfzE7FTfulC"
   },
   "source": [
    "# can be up to 512 for BERT\n",
    "max_length = 512\n",
    "batch_size = 6"
   ],
   "execution_count": null,
   "outputs": []
  },
  {
   "cell_type": "code",
   "metadata": {
    "id": "z6ehPBbsgDkj"
   },
   "source": [
    "def convert_example_to_feature(review):\n",
    "  \n",
    "  # combine step for tokenization, WordPiece vector mapping, adding special tokens as well as truncating reviews longer than the max length\n",
    "  \n",
    "  return tokenizer.encode_plus(review, \n",
    "                add_special_tokens = True, # add [CLS], [SEP]\n",
    "                max_length = max_length, # max length of the text that can go to BERT\n",
    "                pad_to_max_length = True, # add [PAD] tokens\n",
    "                return_attention_mask = True, # add attention mask to not focus on pad tokens\n",
    "              )"
   ],
   "execution_count": null,
   "outputs": []
  },
  {
   "cell_type": "code",
   "metadata": {
    "id": "YsCNfwUxfFoc"
   },
   "source": [
    "with tpu_strategy.scope():\n",
    "  # train dataset\n",
    "  ds_train_encoded = encode_examples(training_dataset).shuffle(10000).batch(batch_size)\n",
    "  # test dataset\n",
    "  ds_test_encoded = encode_examples(testing_dataset).batch(batch_size)"
   ],
   "execution_count": null,
   "outputs": []
  },
  {
   "cell_type": "code",
   "metadata": {
    "id": "SCrja77sryFb",
    "executionInfo": {
     "status": "ok",
     "timestamp": 1592157418755,
     "user_tz": -120,
     "elapsed": 770,
     "user": {
      "displayName": "Jocelin pitteloud",
      "photoUrl": "",
      "userId": "16272144833403683875"
     }
    },
    "outputId": "815febe8-3a41-465f-b413-f5c9f1cb9ae9",
    "colab": {
     "base_uri": "https://localhost:8080/",
     "height": 283
    }
   },
   "source": [
    "EPOCHS = 3\n",
    "\n",
    "start_lr = 0.00001\n",
    "min_lr = 0.00001\n",
    "max_lr = 0.00005 * tpu_strategy.num_replicas_in_sync\n",
    "rampup_epochs = 1\n",
    "sustain_epochs = 0\n",
    "exp_decay = .8\n",
    "\n",
    "def lrfn(epoch):\n",
    "  if epoch < rampup_epochs:\n",
    "    return (max_lr - start_lr)/rampup_epochs * epoch + start_lr\n",
    "  elif epoch < rampup_epochs + sustain_epochs:\n",
    "    return max_lr\n",
    "  else:\n",
    "    return (max_lr - min_lr) * exp_decay**(epoch-rampup_epochs-sustain_epochs) + min_lr\n",
    "    \n",
    "lr_callback = tf.keras.callbacks.LearningRateScheduler(lambda epoch: lrfn(epoch), verbose=True)\n",
    "\n",
    "rang = np.arange(EPOCHS)\n",
    "y = [lrfn(x) for x in rang]\n",
    "plt.plot(rang, y)\n",
    "print('Learning rate per epoch:')"
   ],
   "execution_count": null,
   "outputs": [
    {
     "output_type": "stream",
     "text": [
      "Learning rate per epoch:\n"
     ],
     "name": "stdout"
    },
    {
     "output_type": "display_data",
     "data": {
      "image/png": "[encoded data removed]",
      "text/plain": [
       "<Figure size 432x288 with 1 Axes>"
      ]
     },
     "metadata": {
      "tags": [],
      "needs_background": "light"
     }
    }
   ]
  },
  {
   "cell_type": "code",
   "metadata": {
    "id": "dqxljSllgynv"
   },
   "source": [
    "# recommended learning rate for Adam 5e-5, 3e-5, 2e-5\n",
    "learning_rate = 5e-5 \n",
    "\n",
    "# we will do just 1 epoch for illustration, though multiple epochs might be better as long as we will not overfit the model\n",
    "#number_of_epochs = 2\n",
    "\n",
    "\n",
    "\n",
    "\n",
    "def create_model():\n",
    "  # model initialization\n",
    "  model = TFBertForSequenceClassification.from_pretrained('bert-base-uncased')\n",
    "\n",
    "  # choosing Adam optimizer\n",
    "  optimizer = tf.keras.optimizers.Adam(learning_rate=learning_rate, epsilon=1e-08)\n",
    "\n",
    "  # we do not have one-hot vectors, we can use sparce categorical cross entropy and accuracy\n",
    "  loss = tf.keras.losses.SparseCategoricalCrossentropy(from_logits=True)\n",
    "  metric = tf.keras.metrics.SparseCategoricalAccuracy('accuracy')\n",
    "  model.compile(optimizer=optimizer, loss=loss, metrics=[metric])\n",
    "  return model\n",
    "\n",
    "with tpu_strategy.scope(): # creating the model in the TPUStrategy scope means we will train the model on the TPU\n",
    "  model_att = create_model()"
   ],
   "execution_count": null,
   "outputs": []
  },
  {
   "cell_type": "code",
   "metadata": {
    "id": "PUFWzEkchSyR",
    "executionInfo": {
     "status": "ok",
     "timestamp": 1592140078022,
     "user_tz": -120,
     "elapsed": 2447663,
     "user": {
      "displayName": "Jocelin pitteloud",
      "photoUrl": "",
      "userId": "16272144833403683875"
     }
    },
    "outputId": "c68a04fe-4e7a-41fc-c8a6-c7fab997db3c",
    "colab": {
     "base_uri": "https://localhost:8080/",
     "height": 237
    }
   },
   "source": [
    "bert_history_att = model_att.fit(ds_train_encoded, epochs=EPOCHS, validation_data=ds_test_encoded, callbacks=[lr_callback])"
   ],
   "execution_count": null,
   "outputs": [
    {
     "output_type": "stream",
     "text": [
      "\n",
      "Epoch 00001: LearningRateScheduler reducing learning rate to 1e-05.\n",
      "Epoch 1/3\n",
      "5271/5271 [==============================] - 745s 141ms/step - accuracy: 0.8405 - loss: 0.3842 - val_accuracy: 0.8590 - val_loss: 0.3264 - lr: 1.0000e-05\n",
      "\n",
      "Epoch 00002: LearningRateScheduler reducing learning rate to 0.0004.\n",
      "Epoch 2/3\n",
      "5271/5271 [==============================] - 783s 148ms/step - accuracy: 0.8140 - loss: 0.4981 - val_accuracy: 0.8118 - val_loss: 0.4850 - lr: 4.0000e-04\n",
      "\n",
      "Epoch 00003: LearningRateScheduler reducing learning rate to 0.000322.\n",
      "Epoch 3/3\n",
      "5271/5271 [==============================] - 801s 152ms/step - accuracy: 0.8141 - loss: 0.4845 - val_accuracy: 0.8118 - val_loss: 0.4927 - lr: 3.2200e-04\n"
     ],
     "name": "stdout"
    }
   ]
  },
  {
   "cell_type": "code",
   "metadata": {
    "id": "0cb5AhnNwI5N",
    "executionInfo": {
     "status": "ok",
     "timestamp": 1591821041596,
     "user_tz": -120,
     "elapsed": 2370995,
     "user": {
      "displayName": "Jocelin pitteloud",
      "photoUrl": "",
      "userId": "16272144833403683875"
     }
    },
    "outputId": "dcea4a04-14b2-4977-9f2f-9d458039dd01",
    "colab": {
     "base_uri": "https://localhost:8080/",
     "height": 35
    }
   },
   "source": [
    "final_accuracy = bert_history_att.history[\"val_accuracy\"][-5:]\n",
    "print(\"FINAL ACCURACY MEAN-5: \", np.mean(final_accuracy))"
   ],
   "execution_count": null,
   "outputs": [
    {
     "output_type": "stream",
     "text": [
      "FINAL ACCURACY MEAN-5:  0.8246279358863831\n"
     ],
     "name": "stdout"
    }
   ]
  },
  {
   "cell_type": "code",
   "metadata": {
    "id": "rpJnZBOzvoW0"
   },
   "source": [
    "model_att.save_weights(\"/content/drive/My Drive/model_att2.h5\")"
   ],
   "execution_count": null,
   "outputs": []
  },
  {
   "cell_type": "markdown",
   "metadata": {
    "id": "6YjdiH1KkE5Y"
   },
   "source": [
    "##Aptitude"
   ]
  },
  {
   "cell_type": "code",
   "metadata": {
    "id": "I5GbLmE5kE5s"
   },
   "source": [
    "X = []\n",
    "sentences = WM_DF_dropna[\"Speech\"].to_list()\n",
    "for sen in sentences:\n",
    "  X.append(preprocess_text(sen))\n",
    "y = WM_DF_dropna['1vA_aptitude'].tolist()\n",
    "\n",
    "X_train, X_test, y_train, y_test = train_test_split(X, y, test_size=0.20, random_state=42)"
   ],
   "execution_count": null,
   "outputs": []
  },
  {
   "cell_type": "code",
   "metadata": {
    "id": "clJjLAMkkE53"
   },
   "source": [
    "training_dataset = (\n",
    "    tf.data.Dataset.from_tensor_slices(\n",
    "        (\n",
    "            tf.cast(X_train, tf.string),\n",
    "            tf.cast(y_train, tf.int32)\n",
    "        )\n",
    "    )\n",
    ")"
   ],
   "execution_count": null,
   "outputs": []
  },
  {
   "cell_type": "code",
   "metadata": {
    "id": "eoJDz1WokE5-"
   },
   "source": [
    "testing_dataset = (\n",
    "    tf.data.Dataset.from_tensor_slices(\n",
    "        (\n",
    "            tf.cast(X_test, tf.string),\n",
    "            tf.cast(y_test, tf.int32)\n",
    "        )\n",
    "    )\n",
    ")"
   ],
   "execution_count": null,
   "outputs": []
  },
  {
   "cell_type": "code",
   "metadata": {
    "id": "hf7JKXXKkE6S"
   },
   "source": [
    "with tpu_strategy.scope():\n",
    "  # train dataset\n",
    "  ds_train_encoded = encode_examples(training_dataset).shuffle(10000).batch(batch_size)\n",
    "  # test dataset\n",
    "  ds_test_encoded = encode_examples(testing_dataset).batch(batch_size)"
   ],
   "execution_count": null,
   "outputs": []
  },
  {
   "cell_type": "code",
   "metadata": {
    "id": "6fIX-1KDkE6f"
   },
   "source": [
    "with tpu_strategy.scope(): # creating the model in the TPUStrategy scope means we will train the model on the TPU\n",
    "  model_apt = create_model()"
   ],
   "execution_count": null,
   "outputs": []
  },
  {
   "cell_type": "code",
   "metadata": {
    "id": "OHUgzlrjkE6k",
    "executionInfo": {
     "status": "ok",
     "timestamp": 1592143468190,
     "user_tz": -120,
     "elapsed": 2311290,
     "user": {
      "displayName": "Jocelin pitteloud",
      "photoUrl": "",
      "userId": "16272144833403683875"
     }
    },
    "outputId": "8219bea4-6261-45e7-cfb9-54b2d3f042a9",
    "colab": {
     "base_uri": "https://localhost:8080/",
     "height": 237
    }
   },
   "source": [
    "bert_history_apt = model_apt.fit(ds_train_encoded, epochs=EPOCHS, validation_data=ds_test_encoded, callbacks=[lr_callback])"
   ],
   "execution_count": null,
   "outputs": [
    {
     "output_type": "stream",
     "text": [
      "\n",
      "Epoch 00001: LearningRateScheduler reducing learning rate to 1e-05.\n",
      "Epoch 1/3\n",
      "5271/5271 [==============================] - 749s 142ms/step - accuracy: 0.7801 - loss: 0.4616 - val_accuracy: 0.8240 - val_loss: 0.3715 - lr: 1.0000e-05\n",
      "\n",
      "Epoch 00002: LearningRateScheduler reducing learning rate to 0.0004.\n",
      "Epoch 2/3\n",
      "5271/5271 [==============================] - 745s 141ms/step - accuracy: 0.7264 - loss: 0.6034 - val_accuracy: 0.7249 - val_loss: 0.6029 - lr: 4.0000e-04\n",
      "\n",
      "Epoch 00003: LearningRateScheduler reducing learning rate to 0.000322.\n",
      "Epoch 3/3\n",
      "5271/5271 [==============================] - 752s 143ms/step - accuracy: 0.7318 - loss: 0.5912 - val_accuracy: 0.7249 - val_loss: 0.5916 - lr: 3.2200e-04\n"
     ],
     "name": "stdout"
    }
   ]
  },
  {
   "cell_type": "code",
   "metadata": {
    "id": "8BmG3KIAkE6r",
    "executionInfo": {
     "status": "ok",
     "timestamp": 1591824381232,
     "user_tz": -120,
     "elapsed": 2888980,
     "user": {
      "displayName": "Jocelin pitteloud",
      "photoUrl": "",
      "userId": "16272144833403683875"
     }
    },
    "outputId": "3f6192f7-9ee7-4a64-ccf0-456859d86d36",
    "colab": {
     "base_uri": "https://localhost:8080/",
     "height": 35
    }
   },
   "source": [
    "final_accuracy = bert_history_apt.history[\"val_accuracy\"][-5:]\n",
    "print(\"FINAL ACCURACY MEAN-5: \", np.mean(final_accuracy))"
   ],
   "execution_count": null,
   "outputs": [
    {
     "output_type": "stream",
     "text": [
      "FINAL ACCURACY MEAN-5:  0.757725199063619\n"
     ],
     "name": "stdout"
    }
   ]
  },
  {
   "cell_type": "code",
   "metadata": {
    "id": "2bi2Fx7JkE6w"
   },
   "source": [
    "model_apt.save_weights(\"/content/drive/My Drive/model_apt2.h5\")"
   ],
   "execution_count": null,
   "outputs": []
  },
  {
   "cell_type": "markdown",
   "metadata": {
    "id": "a0Q7bTL9kg4P"
   },
   "source": [
    "##Pleasantness"
   ]
  },
  {
   "cell_type": "code",
   "metadata": {
    "id": "kvxLkmiLkg4i"
   },
   "source": [
    "X = []\n",
    "sentences = WM_DF_dropna[\"Speech\"].to_list()\n",
    "for sen in sentences:\n",
    "  X.append(preprocess_text(sen))\n",
    "y = WM_DF_dropna['1vA_pleasantness'].tolist()\n",
    "\n",
    "X_train, X_test, y_train, y_test = train_test_split(X, y, test_size=0.20, random_state=42)"
   ],
   "execution_count": null,
   "outputs": []
  },
  {
   "cell_type": "code",
   "metadata": {
    "id": "02MH_P0Xkg4t"
   },
   "source": [
    "training_dataset = (\n",
    "    tf.data.Dataset.from_tensor_slices(\n",
    "        (\n",
    "            tf.cast(X_train, tf.string),\n",
    "            tf.cast(y_train, tf.int32)\n",
    "        )\n",
    "    )\n",
    ")"
   ],
   "execution_count": null,
   "outputs": []
  },
  {
   "cell_type": "code",
   "metadata": {
    "id": "KGRZ4QiDkg40"
   },
   "source": [
    "testing_dataset = (\n",
    "    tf.data.Dataset.from_tensor_slices(\n",
    "        (\n",
    "            tf.cast(X_test, tf.string),\n",
    "            tf.cast(y_test, tf.int32)\n",
    "        )\n",
    "    )\n",
    ")"
   ],
   "execution_count": null,
   "outputs": []
  },
  {
   "cell_type": "code",
   "metadata": {
    "id": "NEeeKLDTkg5I"
   },
   "source": [
    "with tpu_strategy.scope():\n",
    "  # train dataset\n",
    "  ds_train_encoded = encode_examples(training_dataset).shuffle(10000).batch(batch_size)\n",
    "  # test dataset\n",
    "  ds_test_encoded = encode_examples(testing_dataset).batch(batch_size)"
   ],
   "execution_count": null,
   "outputs": []
  },
  {
   "cell_type": "code",
   "metadata": {
    "id": "au3lQQ0mkg5X"
   },
   "source": [
    "with tpu_strategy.scope(): # creating the model in the TPUStrategy scope means we will train the model on the TPU\n",
    "  model_plea = create_model()"
   ],
   "execution_count": null,
   "outputs": []
  },
  {
   "cell_type": "code",
   "metadata": {
    "id": "6m4CvsLOkg5c",
    "executionInfo": {
     "status": "ok",
     "timestamp": 1592146374015,
     "user_tz": -120,
     "elapsed": 629682,
     "user": {
      "displayName": "Jocelin pitteloud",
      "photoUrl": "",
      "userId": "16272144833403683875"
     }
    },
    "outputId": "9f645f5e-2ae3-4807-ac81-046ae9d36de8",
    "colab": {
     "base_uri": "https://localhost:8080/",
     "height": 237
    }
   },
   "source": [
    "bert_history_plea = model_plea.fit(ds_train_encoded, epochs=EPOCHS, validation_data=ds_test_encoded, callbacks=[lr_callback])"
   ],
   "execution_count": null,
   "outputs": [
    {
     "output_type": "stream",
     "text": [
      "\n",
      "Epoch 00001: LearningRateScheduler reducing learning rate to 1e-05.\n",
      "Epoch 1/3\n",
      "5271/5271 [==============================] - 748s 142ms/step - accuracy: 0.8093 - loss: 0.4164 - val_accuracy: 0.8410 - val_loss: 0.3645 - lr: 1.0000e-05\n",
      "\n",
      "Epoch 00002: LearningRateScheduler reducing learning rate to 0.0004.\n",
      "Epoch 2/3\n",
      "5271/5271 [==============================] - 750s 142ms/step - accuracy: 0.7880 - loss: 0.5374 - val_accuracy: 0.7890 - val_loss: 0.5160 - lr: 4.0000e-04\n",
      "\n",
      "Epoch 00003: LearningRateScheduler reducing learning rate to 0.000322.\n",
      "Epoch 3/3\n",
      "5271/5271 [==============================] - 761s 144ms/step - accuracy: 0.7889 - loss: 0.5243 - val_accuracy: 0.7890 - val_loss: 0.5163 - lr: 3.2200e-04\n"
     ],
     "name": "stdout"
    }
   ]
  },
  {
   "cell_type": "code",
   "metadata": {
    "id": "MER-y4SNkg5i",
    "executionInfo": {
     "status": "ok",
     "timestamp": 1591827292490,
     "user_tz": -120,
     "elapsed": 2911191,
     "user": {
      "displayName": "Jocelin pitteloud",
      "photoUrl": "",
      "userId": "16272144833403683875"
     }
    },
    "outputId": "e7ce9128-c4c9-40a8-b3dd-45f0f8cab0d3",
    "colab": {
     "base_uri": "https://localhost:8080/",
     "height": 35
    }
   },
   "source": [
    "final_accuracy = bert_history_plea.history[\"val_accuracy\"][-5:]\n",
    "print(\"FINAL ACCURACY MEAN-5: \", np.mean(final_accuracy))"
   ],
   "execution_count": null,
   "outputs": [
    {
     "output_type": "stream",
     "text": [
      "FINAL ACCURACY MEAN-5:  0.8081025083859762\n"
     ],
     "name": "stdout"
    }
   ]
  },
  {
   "cell_type": "code",
   "metadata": {
    "id": "BsgdNFYykg5r"
   },
   "source": [
    "model_plea.save_weights(\"/content/drive/My Drive/model_plea2.h5\")"
   ],
   "execution_count": null,
   "outputs": []
  },
  {
   "cell_type": "markdown",
   "metadata": {
    "id": "E22cuRYrk2to"
   },
   "source": [
    "##Sensitivity"
   ]
  },
  {
   "cell_type": "code",
   "metadata": {
    "id": "ZF0qVbMlk2tu"
   },
   "source": [
    "X = []\n",
    "sentences = WM_DF_dropna[\"Speech\"].to_list()\n",
    "for sen in sentences:\n",
    "  X.append(preprocess_text(sen))\n",
    "y = WM_DF_dropna['1vA_sensitivity'].tolist()\n",
    "\n",
    "X_train, X_test, y_train, y_test = train_test_split(X, y, test_size=0.20, random_state=42)"
   ],
   "execution_count": null,
   "outputs": []
  },
  {
   "cell_type": "code",
   "metadata": {
    "id": "Q_vdqfMRk2t-"
   },
   "source": [
    "training_dataset = (\n",
    "    tf.data.Dataset.from_tensor_slices(\n",
    "        (\n",
    "            tf.cast(X_train, tf.string),\n",
    "            tf.cast(y_train, tf.int32)\n",
    "        )\n",
    "    )\n",
    ")"
   ],
   "execution_count": null,
   "outputs": []
  },
  {
   "cell_type": "code",
   "metadata": {
    "id": "8_VyINDCk2uI"
   },
   "source": [
    "testing_dataset = (\n",
    "    tf.data.Dataset.from_tensor_slices(\n",
    "        (\n",
    "            tf.cast(X_test, tf.string),\n",
    "            tf.cast(y_test, tf.int32)\n",
    "        )\n",
    "    )\n",
    ")"
   ],
   "execution_count": null,
   "outputs": []
  },
  {
   "cell_type": "code",
   "metadata": {
    "id": "IZREw2nZk2uf"
   },
   "source": [
    "with tpu_strategy.scope():\n",
    "  # train dataset\n",
    "  ds_train_encoded = encode_examples(training_dataset).shuffle(10000).batch(batch_size)\n",
    "  # test dataset\n",
    "  ds_test_encoded = encode_examples(testing_dataset).batch(batch_size)"
   ],
   "execution_count": null,
   "outputs": []
  },
  {
   "cell_type": "code",
   "metadata": {
    "id": "uacb4R0Ik2ut"
   },
   "source": [
    "with tpu_strategy.scope(): # creating the model in the TPUStrategy scope means we will train the model on the TPU\n",
    "  model_sens = create_model()"
   ],
   "execution_count": null,
   "outputs": []
  },
  {
   "cell_type": "code",
   "metadata": {
    "id": "87BICJJLk2uy",
    "executionInfo": {
     "status": "ok",
     "timestamp": 1592149254041,
     "user_tz": -120,
     "elapsed": 2326902,
     "user": {
      "displayName": "Jocelin pitteloud",
      "photoUrl": "",
      "userId": "16272144833403683875"
     }
    },
    "outputId": "b7878953-5402-4182-db0e-0baaa662d255",
    "colab": {
     "base_uri": "https://localhost:8080/",
     "height": 237
    }
   },
   "source": [
    "bert_history_sens = model_sens.fit(ds_train_encoded, epochs=EPOCHS, validation_data=ds_test_encoded, callbacks=[lr_callback])"
   ],
   "execution_count": null,
   "outputs": [
    {
     "output_type": "stream",
     "text": [
      "\n",
      "Epoch 00001: LearningRateScheduler reducing learning rate to 1e-05.\n",
      "Epoch 1/3\n",
      "5271/5271 [==============================] - 752s 143ms/step - accuracy: 0.6793 - loss: 0.5939 - val_accuracy: 0.7380 - val_loss: 0.5244 - lr: 1.0000e-05\n",
      "\n",
      "Epoch 00002: LearningRateScheduler reducing learning rate to 0.0004.\n",
      "Epoch 2/3\n",
      "5271/5271 [==============================] - 747s 142ms/step - accuracy: 0.6264 - loss: 0.6656 - val_accuracy: 0.6263 - val_loss: 0.6644 - lr: 4.0000e-04\n",
      "\n",
      "Epoch 00003: LearningRateScheduler reducing learning rate to 0.000322.\n",
      "Epoch 3/3\n",
      "5271/5271 [==============================] - 764s 145ms/step - accuracy: 0.6304 - loss: 0.6610 - val_accuracy: 0.6263 - val_loss: 0.6624 - lr: 3.2200e-04\n"
     ],
     "name": "stdout"
    }
   ]
  },
  {
   "cell_type": "code",
   "metadata": {
    "id": "mTupy304k2u5",
    "executionInfo": {
     "status": "ok",
     "timestamp": 1592150941520,
     "user_tz": -120,
     "elapsed": 898,
     "user": {
      "displayName": "Jocelin pitteloud",
      "photoUrl": "",
      "userId": "16272144833403683875"
     }
    },
    "outputId": "85655152-4182-44f9-9655-52f8e76bf442",
    "colab": {
     "base_uri": "https://localhost:8080/",
     "height": 35
    }
   },
   "source": [
    "final_accuracy = bert_history_sens.history[\"val_accuracy\"][-5:]\n",
    "print(\"FINAL ACCURACY MEAN-5: \", np.mean(final_accuracy))"
   ],
   "execution_count": null,
   "outputs": [
    {
     "output_type": "stream",
     "text": [
      "FINAL ACCURACY MEAN-5:  0.6635048985481262\n"
     ],
     "name": "stdout"
    }
   ]
  },
  {
   "cell_type": "code",
   "metadata": {
    "id": "1ajUvQoAk2u-"
   },
   "source": [
    "model_sens.save_weights(\"/content/drive/My Drive/model_sens2.h5\")"
   ],
   "execution_count": null,
   "outputs": []
  },
  {
   "cell_type": "code",
   "metadata": {
    "id": "kHnNGF3mfNBh",
    "executionInfo": {
     "status": "ok",
     "timestamp": 1592150945139,
     "user_tz": -120,
     "elapsed": 471,
     "user": {
      "displayName": "Jocelin pitteloud",
      "photoUrl": "",
      "userId": "16272144833403683875"
     }
    },
    "outputId": "eb43bb67-1187-4039-e5e3-86e336c12a00",
    "colab": {
     "base_uri": "https://localhost:8080/",
     "height": 146
    }
   },
   "source": [
    "final_loss_att = bert_history_att.history[\"val_loss\"][-5:]\n",
    "final_loss_apt = bert_history_apt.history[\"val_loss\"][-5:]\n",
    "final_loss_plea = bert_history_plea.history[\"val_loss\"][-5:]\n",
    "final_loss_sens = bert_history_sens.history[\"val_loss\"][-5:]\n",
    "\n",
    "print(\"FINAL LOSS MEAN-5: \", np.mean(final_loss_att))\n",
    "print(\"\")\n",
    "print(\"FINAL LOSS MEAN-5: \", np.mean(final_loss_apt))\n",
    "print(\"\")\n",
    "print(\"FINAL LOSS MEAN-5: \", np.mean(final_loss_plea))\n",
    "print(\"\")\n",
    "print(\"FINAL LOSS MEAN-5: \", np.mean(final_loss_sens))"
   ],
   "execution_count": null,
   "outputs": [
    {
     "output_type": "stream",
     "text": [
      "FINAL LOSS MEAN-5:  0.4347021182378133\n",
      "\n",
      "FINAL LOSS MEAN-5:  0.5220131874084473\n",
      "\n",
      "FINAL LOSS MEAN-5:  0.4655999143918355\n",
      "\n",
      "FINAL LOSS MEAN-5:  0.6170739730199178\n"
     ],
     "name": "stdout"
    }
   ]
  },
  {
   "cell_type": "code",
   "metadata": {
    "id": "I5Nx_h561RXk",
    "executionInfo": {
     "status": "ok",
     "timestamp": 1592155005961,
     "user_tz": -120,
     "elapsed": 504,
     "user": {
      "displayName": "Jocelin pitteloud",
      "photoUrl": "",
      "userId": "16272144833403683875"
     }
    },
    "outputId": "b23dfeb1-1aac-4e27-ed95-61fafd2f04ac",
    "colab": {
     "base_uri": "https://localhost:8080/",
     "height": 274
    }
   },
   "source": [
    "model_apt.summary()"
   ],
   "execution_count": null,
   "outputs": [
    {
     "output_type": "stream",
     "text": [
      "Model: \"tf_bert_for_sequence_classification_1\"\n",
      "_________________________________________________________________\n",
      "Layer (type)                 Output Shape              Param #   \n",
      "=================================================================\n",
      "bert (TFBertMainLayer)       multiple                  109482240 \n",
      "_________________________________________________________________\n",
      "dropout_75 (Dropout)         multiple                  0         \n",
      "_________________________________________________________________\n",
      "classifier (Dense)           multiple                  1538      \n",
      "=================================================================\n",
      "Total params: 109,483,778\n",
      "Trainable params: 109,483,778\n",
      "Non-trainable params: 0\n",
      "_________________________________________________________________\n"
     ],
     "name": "stdout"
    }
   ]
  },
  {
   "cell_type": "markdown",
   "metadata": {
    "id": "To1OoFK5m7tX"
   },
   "source": [
    "##### ALL"
   ]
  },
  {
   "cell_type": "code",
   "metadata": {
    "id": "0SrDdbXImPbi",
    "executionInfo": {
     "status": "ok",
     "timestamp": 1592154219791,
     "user_tz": -120,
     "elapsed": 2915588,
     "user": {
      "displayName": "Jocelin pitteloud",
      "photoUrl": "",
      "userId": "16272144833403683875"
     }
    },
    "outputId": "99bb4780-ed6b-4502-c5c2-db791b80a772",
    "colab": {
     "base_uri": "https://localhost:8080/",
     "height": 274
    }
   },
   "source": [
    "X = []\n",
    "sentences = WM_DF_dropna[\"Speech\"].to_list()\n",
    "for sen in sentences:\n",
    "  X.append(preprocess_text(sen))\n",
    "y = WM_DF_dropna['sensitivity'].tolist()\n",
    "\n",
    "X_train, X_test, y_train, y_test = train_test_split(X, y, test_size=0.20, random_state=42)\n",
    "\n",
    "training_dataset = (\n",
    "    tf.data.Dataset.from_tensor_slices(\n",
    "        (\n",
    "            tf.cast(X_train, tf.string),\n",
    "            tf.cast(y_train, tf.int32)\n",
    "        )\n",
    "    )\n",
    ")\n",
    "testing_dataset = (\n",
    "    tf.data.Dataset.from_tensor_slices(\n",
    "        (\n",
    "            tf.cast(X_test, tf.string),\n",
    "            tf.cast(y_test, tf.int32)\n",
    "        )\n",
    "    )\n",
    ")\n",
    "with tpu_strategy.scope():\n",
    "  # train dataset\n",
    "  ds_train_encoded = encode_examples(training_dataset).shuffle(10000).batch(batch_size)\n",
    "  # test dataset\n",
    "  ds_test_encoded = encode_examples(testing_dataset).batch(batch_size)\n",
    "\n",
    "with tpu_strategy.scope(): # creating the model in the TPUStrategy scope means we will train the model on the TPU\n",
    "  model_sens_all = create_model()\n",
    "\n",
    "bert_history_sens_all = model_sens_all.fit(ds_train_encoded, epochs=EPOCHS, validation_data=ds_test_encoded, callbacks=[lr_callback])\n",
    "\n",
    "final_accuracy = bert_history_sens_all.history[\"val_accuracy\"][-5:]\n",
    "print(\"FINAL ACCURACY MEAN-5: \", np.mean(final_accuracy))\n",
    "final_accuracy = bert_history_sens_all.history[\"val_loss\"][-5:]\n",
    "print(\"FINAL ACCURACY MEAN-5: \", np.mean(final_accuracy))"
   ],
   "execution_count": null,
   "outputs": [
    {
     "output_type": "stream",
     "text": [
      "\n",
      "Epoch 00001: LearningRateScheduler reducing learning rate to 1e-05.\n",
      "Epoch 1/3\n",
      "5271/5271 [==============================] - 754s 143ms/step - accuracy: 0.6708 - loss: 0.6066 - val_accuracy: 0.7086 - val_loss: 0.5510 - lr: 1.0000e-05\n",
      "\n",
      "Epoch 00002: LearningRateScheduler reducing learning rate to 0.0004.\n",
      "Epoch 2/3\n",
      "5271/5271 [==============================] - 749s 142ms/step - accuracy: 0.6246 - loss: 0.6673 - val_accuracy: 0.6263 - val_loss: 0.6617 - lr: 4.0000e-04\n",
      "\n",
      "Epoch 00003: LearningRateScheduler reducing learning rate to 0.000322.\n",
      "Epoch 3/3\n",
      "5271/5271 [==============================] - 765s 145ms/step - accuracy: 0.6308 - loss: 0.6607 - val_accuracy: 0.6263 - val_loss: 0.6662 - lr: 3.2200e-04\n",
      "FINAL ACCURACY MEAN-5:  0.6537245313326517\n",
      "FINAL ACCURACY MEAN-5:  0.6262865662574768\n"
     ],
     "name": "stdout"
    }
   ]
  },
  {
   "cell_type": "code",
   "metadata": {
    "id": "N8epBHHqnRlW",
    "executionInfo": {
     "status": "ok",
     "timestamp": 1592160334555,
     "user_tz": -120,
     "elapsed": 2870357,
     "user": {
      "displayName": "Jocelin pitteloud",
      "photoUrl": "",
      "userId": "16272144833403683875"
     }
    },
    "outputId": "3e183f0e-6741-462d-be1e-eebb6756eb0f",
    "colab": {
     "base_uri": "https://localhost:8080/",
     "height": 274
    }
   },
   "source": [
    "X = []\n",
    "sentences = WM_DF_dropna[\"Speech\"].to_list()\n",
    "for sen in sentences:\n",
    "  X.append(preprocess_text(sen))\n",
    "y = WM_DF_dropna['pleasantness'].tolist()\n",
    "\n",
    "X_train, X_test, y_train, y_test = train_test_split(X, y, test_size=0.20, random_state=42)\n",
    "\n",
    "training_dataset = (\n",
    "    tf.data.Dataset.from_tensor_slices(\n",
    "        (\n",
    "            tf.cast(X_train, tf.string),\n",
    "            tf.cast(y_train, tf.int32)\n",
    "        )\n",
    "    )\n",
    ")\n",
    "testing_dataset = (\n",
    "    tf.data.Dataset.from_tensor_slices(\n",
    "        (\n",
    "            tf.cast(X_test, tf.string),\n",
    "            tf.cast(y_test, tf.int32)\n",
    "        )\n",
    "    )\n",
    ")\n",
    "with tpu_strategy.scope():\n",
    "  # train dataset\n",
    "  ds_train_encoded = encode_examples(training_dataset).shuffle(10000).batch(batch_size)\n",
    "  # test dataset\n",
    "  ds_test_encoded = encode_examples(testing_dataset).batch(batch_size)\n",
    "\n",
    "with tpu_strategy.scope(): # creating the model in the TPUStrategy scope means we will train the model on the TPU\n",
    "  model_plea_all = create_model()\n",
    "\n",
    "bert_history_plea_all = model_plea_all.fit(ds_train_encoded, epochs=EPOCHS, validation_data=ds_test_encoded, callbacks=[lr_callback])\n",
    "\n",
    "final_accuracy = bert_history_plea_all.history[\"val_accuracy\"][-5:]\n",
    "print(\"FINAL ACCURACY MEAN-5: \", np.mean(final_accuracy))\n",
    "final_accuracy = bert_history_plea_all.history[\"val_loss\"][-5:]\n",
    "print(\"FINAL ACCURACY MEAN-5: \", np.mean(final_accuracy))"
   ],
   "execution_count": null,
   "outputs": [
    {
     "output_type": "stream",
     "text": [
      "\n",
      "Epoch 00001: LearningRateScheduler reducing learning rate to 1e-05.\n",
      "Epoch 1/3\n",
      "5271/5271 [==============================] - 755s 143ms/step - accuracy: 0.9996 - loss: nan - val_accuracy: 1.0000 - val_loss: nan - lr: 1.0000e-05\n",
      "\n",
      "Epoch 00002: LearningRateScheduler reducing learning rate to 0.0004.\n",
      "Epoch 2/3\n",
      "5271/5271 [==============================] - 746s 142ms/step - accuracy: 0.9998 - loss: nan - val_accuracy: 1.0000 - val_loss: nan - lr: 4.0000e-04\n",
      "\n",
      "Epoch 00003: LearningRateScheduler reducing learning rate to 0.000322.\n",
      "Epoch 3/3\n",
      "5271/5271 [==============================] - 747s 142ms/step - accuracy: 0.9998 - loss: nan - val_accuracy: 1.0000 - val_loss: nan - lr: 3.2200e-04\n",
      "FINAL ACCURACY MEAN-5:  1.0\n",
      "FINAL ACCURACY MEAN-5:  nan\n"
     ],
     "name": "stdout"
    }
   ]
  },
  {
   "cell_type": "code",
   "metadata": {
    "id": "YvJHGMdzndb-",
    "executionInfo": {
     "status": "error",
     "timestamp": 1592161793876,
     "user_tz": -120,
     "elapsed": 6069,
     "user": {
      "displayName": "Jocelin pitteloud",
      "photoUrl": "",
      "userId": "16272144833403683875"
     }
    },
    "outputId": "4ab51be5-1ff6-49ba-d39b-c8a5653dfd38",
    "colab": {
     "base_uri": "https://localhost:8080/",
     "height": 398
    }
   },
   "source": [
    "X = []\n",
    "sentences = WM_DF_dropna[\"Speech\"].to_list()\n",
    "for sen in sentences:\n",
    "  X.append(preprocess_text(sen))\n",
    "y = WM_DF_dropna['aptitude'].tolist()\n",
    "\n",
    "X_train, X_test, y_train, y_test = train_test_split(X, y, test_size=0.20, random_state=42)\n",
    "\n",
    "training_dataset = (\n",
    "    tf.data.Dataset.from_tensor_slices(\n",
    "        (\n",
    "            tf.cast(X_train, tf.string),\n",
    "            tf.cast(y_train, tf.int32)\n",
    "        )\n",
    "    )\n",
    ")\n",
    "testing_dataset = (\n",
    "    tf.data.Dataset.from_tensor_slices(\n",
    "        (\n",
    "            tf.cast(X_test, tf.string),\n",
    "            tf.cast(y_test, tf.int32)\n",
    "        )\n",
    "    )\n",
    ")\n",
    "with tpu_strategy.scope():\n",
    "  # train dataset\n",
    "  ds_train_encoded = encode_examples(training_dataset).shuffle(10000).batch(batch_size)\n",
    "  # test dataset\n",
    "  ds_test_encoded = encode_examples(testing_dataset).batch(batch_size)\n",
    "\n",
    "with tpu_strategy.scope(): # creating the model in the TPUStrategy scope means we will train the model on the TPU\n",
    "  model_apt_all = create_model()\n",
    "\n",
    "bert_history_apt_all = model_apt_all.fit(ds_train_encoded, epochs=EPOCHS, validation_data=ds_test_encoded, callbacks=[lr_callback])\n",
    "\n",
    "final_accuracy = bert_history_apt_all.history[\"val_accuracy\"][-5:]\n",
    "print(\"FINAL ACCURACY MEAN-5: \", np.mean(final_accuracy))\n",
    "final_accuracy = bert_history_apt_all.history[\"val_loss\"][-5:]\n",
    "print(\"FINAL ACCURACY MEAN-5: \", np.mean(final_accuracy))"
   ],
   "execution_count": null,
   "outputs": [
    {
     "output_type": "error",
     "ename": "KeyboardInterrupt",
     "evalue": "ignored",
     "traceback": [
      "\u001B[0;31m---------------------------------------------------------------------------\u001B[0m",
      "\u001B[0;31mKeyboardInterrupt\u001B[0m                         Traceback (most recent call last)",
      "\u001B[0;32m<ipython-input-21-d61dcd398180>\u001B[0m in \u001B[0;36m<module>\u001B[0;34m()\u001B[0m\n\u001B[1;32m      2\u001B[0m \u001B[0msentences\u001B[0m \u001B[0;34m=\u001B[0m \u001B[0mWM_DF_dropna\u001B[0m\u001B[0;34m[\u001B[0m\u001B[0;34m\"Speech\"\u001B[0m\u001B[0;34m]\u001B[0m\u001B[0;34m.\u001B[0m\u001B[0mto_list\u001B[0m\u001B[0;34m(\u001B[0m\u001B[0;34m)\u001B[0m\u001B[0;34m\u001B[0m\u001B[0;34m\u001B[0m\u001B[0m\n\u001B[1;32m      3\u001B[0m \u001B[0;32mfor\u001B[0m \u001B[0msen\u001B[0m \u001B[0;32min\u001B[0m \u001B[0msentences\u001B[0m\u001B[0;34m:\u001B[0m\u001B[0;34m\u001B[0m\u001B[0;34m\u001B[0m\u001B[0m\n\u001B[0;32m----> 4\u001B[0;31m   \u001B[0mX\u001B[0m\u001B[0;34m.\u001B[0m\u001B[0mappend\u001B[0m\u001B[0;34m(\u001B[0m\u001B[0mpreprocess_text\u001B[0m\u001B[0;34m(\u001B[0m\u001B[0msen\u001B[0m\u001B[0;34m)\u001B[0m\u001B[0;34m)\u001B[0m\u001B[0;34m\u001B[0m\u001B[0;34m\u001B[0m\u001B[0m\n\u001B[0m\u001B[1;32m      5\u001B[0m \u001B[0my\u001B[0m \u001B[0;34m=\u001B[0m \u001B[0mWM_DF_dropna\u001B[0m\u001B[0;34m[\u001B[0m\u001B[0;34m'aptitude'\u001B[0m\u001B[0;34m]\u001B[0m\u001B[0;34m.\u001B[0m\u001B[0mtolist\u001B[0m\u001B[0;34m(\u001B[0m\u001B[0;34m)\u001B[0m\u001B[0;34m\u001B[0m\u001B[0;34m\u001B[0m\u001B[0m\n\u001B[1;32m      6\u001B[0m \u001B[0;34m\u001B[0m\u001B[0m\n",
      "\u001B[0;32m<ipython-input-14-430e66a3f104>\u001B[0m in \u001B[0;36mpreprocess_text\u001B[0;34m(sen)\u001B[0m\n\u001B[1;32m      4\u001B[0m \u001B[0;34m\u001B[0m\u001B[0m\n\u001B[1;32m      5\u001B[0m     \u001B[0;31m# Single character removal\u001B[0m\u001B[0;34m\u001B[0m\u001B[0;34m\u001B[0m\u001B[0;34m\u001B[0m\u001B[0m\n\u001B[0;32m----> 6\u001B[0;31m     \u001B[0msentence\u001B[0m \u001B[0;34m=\u001B[0m \u001B[0mre\u001B[0m\u001B[0;34m.\u001B[0m\u001B[0msub\u001B[0m\u001B[0;34m(\u001B[0m\u001B[0;34mr\"\\s+[a-zA-Z]\\s+\"\u001B[0m\u001B[0;34m,\u001B[0m \u001B[0;34m' '\u001B[0m\u001B[0;34m,\u001B[0m \u001B[0msentence\u001B[0m\u001B[0;34m)\u001B[0m\u001B[0;34m\u001B[0m\u001B[0;34m\u001B[0m\u001B[0m\n\u001B[0m\u001B[1;32m      7\u001B[0m \u001B[0;34m\u001B[0m\u001B[0m\n\u001B[1;32m      8\u001B[0m     \u001B[0;31m# Removing multiple spaces\u001B[0m\u001B[0;34m\u001B[0m\u001B[0;34m\u001B[0m\u001B[0;34m\u001B[0m\u001B[0m\n",
      "\u001B[0;32m/usr/lib/python3.6/re.py\u001B[0m in \u001B[0;36msub\u001B[0;34m(pattern, repl, string, count, flags)\u001B[0m\n\u001B[1;32m    189\u001B[0m     \u001B[0ma\u001B[0m \u001B[0mcallable\u001B[0m\u001B[0;34m,\u001B[0m \u001B[0mit\u001B[0m\u001B[0;31m'\u001B[0m\u001B[0ms\u001B[0m \u001B[0mpassed\u001B[0m \u001B[0mthe\u001B[0m \u001B[0mmatch\u001B[0m \u001B[0mobject\u001B[0m \u001B[0;32mand\u001B[0m \u001B[0mmust\u001B[0m \u001B[0;32mreturn\u001B[0m\u001B[0;34m\u001B[0m\u001B[0;34m\u001B[0m\u001B[0m\n\u001B[1;32m    190\u001B[0m     a replacement string to be used.\"\"\"\n\u001B[0;32m--> 191\u001B[0;31m     \u001B[0;32mreturn\u001B[0m \u001B[0m_compile\u001B[0m\u001B[0;34m(\u001B[0m\u001B[0mpattern\u001B[0m\u001B[0;34m,\u001B[0m \u001B[0mflags\u001B[0m\u001B[0;34m)\u001B[0m\u001B[0;34m.\u001B[0m\u001B[0msub\u001B[0m\u001B[0;34m(\u001B[0m\u001B[0mrepl\u001B[0m\u001B[0;34m,\u001B[0m \u001B[0mstring\u001B[0m\u001B[0;34m,\u001B[0m \u001B[0mcount\u001B[0m\u001B[0;34m)\u001B[0m\u001B[0;34m\u001B[0m\u001B[0;34m\u001B[0m\u001B[0m\n\u001B[0m\u001B[1;32m    192\u001B[0m \u001B[0;34m\u001B[0m\u001B[0m\n\u001B[1;32m    193\u001B[0m \u001B[0;32mdef\u001B[0m \u001B[0msubn\u001B[0m\u001B[0;34m(\u001B[0m\u001B[0mpattern\u001B[0m\u001B[0;34m,\u001B[0m \u001B[0mrepl\u001B[0m\u001B[0;34m,\u001B[0m \u001B[0mstring\u001B[0m\u001B[0;34m,\u001B[0m \u001B[0mcount\u001B[0m\u001B[0;34m=\u001B[0m\u001B[0;36m0\u001B[0m\u001B[0;34m,\u001B[0m \u001B[0mflags\u001B[0m\u001B[0;34m=\u001B[0m\u001B[0;36m0\u001B[0m\u001B[0;34m)\u001B[0m\u001B[0;34m:\u001B[0m\u001B[0;34m\u001B[0m\u001B[0;34m\u001B[0m\u001B[0m\n",
      "\u001B[0;31mKeyboardInterrupt\u001B[0m: "
     ]
    }
   ]
  },
  {
   "cell_type": "code",
   "metadata": {
    "id": "hiQIU5_DPRTE",
    "executionInfo": {
     "status": "ok",
     "timestamp": 1592161950938,
     "user_tz": -120,
     "elapsed": 694,
     "user": {
      "displayName": "Jocelin pitteloud",
      "photoUrl": "",
      "userId": "16272144833403683875"
     }
    },
    "outputId": "8f138000-fd4a-4700-f611-bfb28eb92326",
    "colab": {
     "base_uri": "https://localhost:8080/",
     "height": 109
    }
   },
   "source": [
    "print(WM_DF_dropna['1vA_attention'].sum())\n",
    "print(WM_DF_dropna['1vA_aptitude'].sum())\n",
    "print(WM_DF_dropna['1vA_sensitivity'].sum())\n",
    "print(WM_DF_dropna['1vA_pleasantness'].sum())\n",
    "print(len(WM_DF_dropna))"
   ],
   "execution_count": null,
   "outputs": [
    {
     "output_type": "stream",
     "text": [
      "32166\n",
      "28884\n",
      "24908\n",
      "31187\n",
      "39532\n"
     ],
     "name": "stdout"
    }
   ]
  },
  {
   "cell_type": "code",
   "metadata": {
    "id": "AEQHuXt5RpNa"
   },
   "source": [
    "countList = []\n",
    "for elem in WM_DF_dropna['CleanSpeeches']:\n",
    "  countList.append(len(elem.split()))"
   ],
   "execution_count": null,
   "outputs": []
  },
  {
   "cell_type": "code",
   "metadata": {
    "id": "idHpKUP7Shei",
    "executionInfo": {
     "status": "ok",
     "timestamp": 1592162671545,
     "user_tz": -120,
     "elapsed": 755,
     "user": {
      "displayName": "Jocelin pitteloud",
      "photoUrl": "",
      "userId": "16272144833403683875"
     }
    },
    "outputId": "b01214d7-ac5e-4a3b-e944-9391d5930cbb",
    "colab": {
     "base_uri": "https://localhost:8080/",
     "height": 127
    }
   },
   "source": [
    "WM_DF_dropna['Count'] = countList"
   ],
   "execution_count": null,
   "outputs": [
    {
     "output_type": "stream",
     "text": [
      "/usr/local/lib/python3.6/dist-packages/ipykernel_launcher.py:1: SettingWithCopyWarning: \n",
      "A value is trying to be set on a copy of a slice from a DataFrame.\n",
      "Try using .loc[row_indexer,col_indexer] = value instead\n",
      "\n",
      "See the caveats in the documentation: https://pandas.pydata.org/pandas-docs/stable/user_guide/indexing.html#returning-a-view-versus-a-copy\n",
      "  \"\"\"Entry point for launching an IPython kernel.\n"
     ],
     "name": "stderr"
    }
   ]
  },
  {
   "cell_type": "code",
   "metadata": {
    "id": "k_tNT7xSSo8Q"
   },
   "source": [
    "DF_Data = WM_DF_dropna[WM_DF_dropna['Count']>= 100]"
   ],
   "execution_count": null,
   "outputs": []
  },
  {
   "cell_type": "code",
   "metadata": {
    "id": "y0aSn2rASA3H",
    "executionInfo": {
     "status": "ok",
     "timestamp": 1592163157423,
     "user_tz": -120,
     "elapsed": 744,
     "user": {
      "displayName": "Jocelin pitteloud",
      "photoUrl": "",
      "userId": "16272144833403683875"
     }
    },
    "outputId": "5d94b488-1485-4d91-92b0-4952249c6249",
    "colab": {
     "base_uri": "https://localhost:8080/",
     "height": 295
    }
   },
   "source": [
    "countList.sort(reverse=True)\n",
    "plt.plot(countList)\n",
    "plt.title('Number of words for each caracters')\n",
    "plt.ylabel('Number of words')\n",
    "plt.xlabel('Caracter')\n",
    "plt.show()"
   ],
   "execution_count": null,
   "outputs": [
    {
     "output_type": "display_data",
     "data": {
      "image/png": "[encoded data removed]",
      "text/plain": [
       "<Figure size 432x288 with 1 Axes>"
      ]
     },
     "metadata": {
      "tags": [],
      "needs_background": "light"
     }
    }
   ]
  },
  {
   "cell_type": "code",
   "metadata": {
    "id": "_eDcqEWLdtKR",
    "executionInfo": {
     "status": "ok",
     "timestamp": 1592165658372,
     "user_tz": -120,
     "elapsed": 574,
     "user": {
      "displayName": "Jocelin pitteloud",
      "photoUrl": "",
      "userId": "16272144833403683875"
     }
    },
    "outputId": "01b35fa6-5bcc-401c-bbd6-a49fef9d694b",
    "colab": {
     "base_uri": "https://localhost:8080/",
     "height": 35
    }
   },
   "source": [
    "DF_Data['Count'].median()"
   ],
   "execution_count": null,
   "outputs": [
    {
     "output_type": "execute_result",
     "data": {
      "text/plain": [
       "278.0"
      ]
     },
     "metadata": {
      "tags": []
     },
     "execution_count": 46
    }
   ]
  },
  {
   "cell_type": "code",
   "metadata": {
    "id": "4ckiDmI_eC0o",
    "executionInfo": {
     "status": "ok",
     "timestamp": 1592165680672,
     "user_tz": -120,
     "elapsed": 679,
     "user": {
      "displayName": "Jocelin pitteloud",
      "photoUrl": "",
      "userId": "16272144833403683875"
     }
    },
    "outputId": "23b3f78f-ffa6-4667-d3ed-1390543ba4cd",
    "colab": {
     "base_uri": "https://localhost:8080/",
     "height": 35
    }
   },
   "source": [
    "DF_Data['Count'].mean()"
   ],
   "execution_count": null,
   "outputs": [
    {
     "output_type": "execute_result",
     "data": {
      "text/plain": [
       "622.6559253389681"
      ]
     },
     "metadata": {
      "tags": []
     },
     "execution_count": 47
    }
   ]
  },
  {
   "cell_type": "code",
   "metadata": {
    "id": "wjCdjSegnow9",
    "executionInfo": {
     "status": "error",
     "timestamp": 1592162958477,
     "user_tz": -120,
     "elapsed": 5985,
     "user": {
      "displayName": "Jocelin pitteloud",
      "photoUrl": "",
      "userId": "16272144833403683875"
     }
    },
    "outputId": "4d0819be-db83-486d-92cf-e27bbeeecea5",
    "colab": {
     "base_uri": "https://localhost:8080/",
     "height": 398
    }
   },
   "source": [
    "X = []\n",
    "sentences = DF_Data[\"Speech\"].to_list()\n",
    "for sen in sentences:\n",
    "  X.append(preprocess_text(sen))\n",
    "y = WM_DF_dropna['1vA_attention'].tolist()\n",
    "\n",
    "X_train, X_test, y_train, y_test = train_test_split(X, y, test_size=0.20, random_state=42)\n",
    "\n",
    "training_dataset = (\n",
    "    tf.data.Dataset.from_tensor_slices(\n",
    "        (\n",
    "            tf.cast(X_train, tf.string),\n",
    "            tf.cast(y_train, tf.int32)\n",
    "        )\n",
    "    )\n",
    ")\n",
    "testing_dataset = (\n",
    "    tf.data.Dataset.from_tensor_slices(\n",
    "        (\n",
    "            tf.cast(X_test, tf.string),\n",
    "            tf.cast(y_test, tf.int32)\n",
    "        )\n",
    "    )\n",
    ")\n",
    "with tpu_strategy.scope():\n",
    "  # train dataset\n",
    "  ds_train_encoded = encode_examples(training_dataset).shuffle(10000).batch(batch_size)\n",
    "  # test dataset\n",
    "  ds_test_encoded = encode_examples(testing_dataset).batch(batch_size)\n",
    "\n",
    "with tpu_strategy.scope(): # creating the model in the TPUStrategy scope means we will train the model on the TPU\n",
    "  model_att_all = create_model()\n",
    "\n",
    "bert_history_att_all = model_att_all.fit(ds_train_encoded, epochs=EPOCHS, validation_data=ds_test_encoded, callbacks=[lr_callback])\n",
    "\n",
    "final_accuracy = bert_history_att_all.history[\"val_accuracy\"][-5:]\n",
    "print(\"FINAL ACCURACY MEAN-5: \", np.mean(final_accuracy))\n",
    "final_accuracy = bert_history_att_all.history[\"val_loss\"][-5:]\n",
    "print(\"FINAL ACCURACY MEAN-5: \", np.mean(final_accuracy))"
   ],
   "execution_count": null,
   "outputs": [
    {
     "output_type": "error",
     "ename": "ValueError",
     "evalue": "ignored",
     "traceback": [
      "\u001B[0;31m---------------------------------------------------------------------------\u001B[0m",
      "\u001B[0;31mValueError\u001B[0m                                Traceback (most recent call last)",
      "\u001B[0;32m<ipython-input-42-4de569a0deaa>\u001B[0m in \u001B[0;36m<module>\u001B[0;34m()\u001B[0m\n\u001B[1;32m      5\u001B[0m \u001B[0my\u001B[0m \u001B[0;34m=\u001B[0m \u001B[0mWM_DF_dropna\u001B[0m\u001B[0;34m[\u001B[0m\u001B[0;34m'1vA_attention'\u001B[0m\u001B[0;34m]\u001B[0m\u001B[0;34m.\u001B[0m\u001B[0mtolist\u001B[0m\u001B[0;34m(\u001B[0m\u001B[0;34m)\u001B[0m\u001B[0;34m\u001B[0m\u001B[0;34m\u001B[0m\u001B[0m\n\u001B[1;32m      6\u001B[0m \u001B[0;34m\u001B[0m\u001B[0m\n\u001B[0;32m----> 7\u001B[0;31m \u001B[0mX_train\u001B[0m\u001B[0;34m,\u001B[0m \u001B[0mX_test\u001B[0m\u001B[0;34m,\u001B[0m \u001B[0my_train\u001B[0m\u001B[0;34m,\u001B[0m \u001B[0my_test\u001B[0m \u001B[0;34m=\u001B[0m \u001B[0mtrain_test_split\u001B[0m\u001B[0;34m(\u001B[0m\u001B[0mX\u001B[0m\u001B[0;34m,\u001B[0m \u001B[0my\u001B[0m\u001B[0;34m,\u001B[0m \u001B[0mtest_size\u001B[0m\u001B[0;34m=\u001B[0m\u001B[0;36m0.20\u001B[0m\u001B[0;34m,\u001B[0m \u001B[0mrandom_state\u001B[0m\u001B[0;34m=\u001B[0m\u001B[0;36m42\u001B[0m\u001B[0;34m)\u001B[0m\u001B[0;34m\u001B[0m\u001B[0;34m\u001B[0m\u001B[0m\n\u001B[0m\u001B[1;32m      8\u001B[0m \u001B[0;34m\u001B[0m\u001B[0m\n\u001B[1;32m      9\u001B[0m training_dataset = (\n",
      "\u001B[0;32m/usr/local/lib/python3.6/dist-packages/sklearn/model_selection/_split.py\u001B[0m in \u001B[0;36mtrain_test_split\u001B[0;34m(*arrays, **options)\u001B[0m\n\u001B[1;32m   2116\u001B[0m         \u001B[0;32mraise\u001B[0m \u001B[0mTypeError\u001B[0m\u001B[0;34m(\u001B[0m\u001B[0;34m\"Invalid parameters passed: %s\"\u001B[0m \u001B[0;34m%\u001B[0m \u001B[0mstr\u001B[0m\u001B[0;34m(\u001B[0m\u001B[0moptions\u001B[0m\u001B[0;34m)\u001B[0m\u001B[0;34m)\u001B[0m\u001B[0;34m\u001B[0m\u001B[0;34m\u001B[0m\u001B[0m\n\u001B[1;32m   2117\u001B[0m \u001B[0;34m\u001B[0m\u001B[0m\n\u001B[0;32m-> 2118\u001B[0;31m     \u001B[0marrays\u001B[0m \u001B[0;34m=\u001B[0m \u001B[0mindexable\u001B[0m\u001B[0;34m(\u001B[0m\u001B[0;34m*\u001B[0m\u001B[0marrays\u001B[0m\u001B[0;34m)\u001B[0m\u001B[0;34m\u001B[0m\u001B[0;34m\u001B[0m\u001B[0m\n\u001B[0m\u001B[1;32m   2119\u001B[0m \u001B[0;34m\u001B[0m\u001B[0m\n\u001B[1;32m   2120\u001B[0m     \u001B[0mn_samples\u001B[0m \u001B[0;34m=\u001B[0m \u001B[0m_num_samples\u001B[0m\u001B[0;34m(\u001B[0m\u001B[0marrays\u001B[0m\u001B[0;34m[\u001B[0m\u001B[0;36m0\u001B[0m\u001B[0;34m]\u001B[0m\u001B[0;34m)\u001B[0m\u001B[0;34m\u001B[0m\u001B[0;34m\u001B[0m\u001B[0m\n",
      "\u001B[0;32m/usr/local/lib/python3.6/dist-packages/sklearn/utils/validation.py\u001B[0m in \u001B[0;36mindexable\u001B[0;34m(*iterables)\u001B[0m\n\u001B[1;32m    246\u001B[0m     \"\"\"\n\u001B[1;32m    247\u001B[0m     \u001B[0mresult\u001B[0m \u001B[0;34m=\u001B[0m \u001B[0;34m[\u001B[0m\u001B[0m_make_indexable\u001B[0m\u001B[0;34m(\u001B[0m\u001B[0mX\u001B[0m\u001B[0;34m)\u001B[0m \u001B[0;32mfor\u001B[0m \u001B[0mX\u001B[0m \u001B[0;32min\u001B[0m \u001B[0miterables\u001B[0m\u001B[0;34m]\u001B[0m\u001B[0;34m\u001B[0m\u001B[0;34m\u001B[0m\u001B[0m\n\u001B[0;32m--> 248\u001B[0;31m     \u001B[0mcheck_consistent_length\u001B[0m\u001B[0;34m(\u001B[0m\u001B[0;34m*\u001B[0m\u001B[0mresult\u001B[0m\u001B[0;34m)\u001B[0m\u001B[0;34m\u001B[0m\u001B[0;34m\u001B[0m\u001B[0m\n\u001B[0m\u001B[1;32m    249\u001B[0m     \u001B[0;32mreturn\u001B[0m \u001B[0mresult\u001B[0m\u001B[0;34m\u001B[0m\u001B[0;34m\u001B[0m\u001B[0m\n\u001B[1;32m    250\u001B[0m \u001B[0;34m\u001B[0m\u001B[0m\n",
      "\u001B[0;32m/usr/local/lib/python3.6/dist-packages/sklearn/utils/validation.py\u001B[0m in \u001B[0;36mcheck_consistent_length\u001B[0;34m(*arrays)\u001B[0m\n\u001B[1;32m    210\u001B[0m     \u001B[0;32mif\u001B[0m \u001B[0mlen\u001B[0m\u001B[0;34m(\u001B[0m\u001B[0muniques\u001B[0m\u001B[0;34m)\u001B[0m \u001B[0;34m>\u001B[0m \u001B[0;36m1\u001B[0m\u001B[0;34m:\u001B[0m\u001B[0;34m\u001B[0m\u001B[0;34m\u001B[0m\u001B[0m\n\u001B[1;32m    211\u001B[0m         raise ValueError(\"Found input variables with inconsistent numbers of\"\n\u001B[0;32m--> 212\u001B[0;31m                          \" samples: %r\" % [int(l) for l in lengths])\n\u001B[0m\u001B[1;32m    213\u001B[0m \u001B[0;34m\u001B[0m\u001B[0m\n\u001B[1;32m    214\u001B[0m \u001B[0;34m\u001B[0m\u001B[0m\n",
      "\u001B[0;31mValueError\u001B[0m: Found input variables with inconsistent numbers of samples: [11358, 39532]"
     ]
    }
   ]
  },
  {
   "cell_type": "markdown",
   "metadata": {
    "id": "A67hl5SGCbhL"
   },
   "source": [
    "#graph"
   ]
  },
  {
   "cell_type": "code",
   "metadata": {
    "id": "Ga-ZjzjLCoCv"
   },
   "source": [
    "import matplotlib.pyplot as plt"
   ],
   "execution_count": null,
   "outputs": []
  },
  {
   "cell_type": "code",
   "metadata": {
    "id": "quqMTPgaC0tr",
    "executionInfo": {
     "status": "ok",
     "timestamp": 1591604915552,
     "user_tz": -120,
     "elapsed": 478,
     "user": {
      "displayName": "Jocelin pitteloud",
      "photoUrl": "",
      "userId": "16272144833403683875"
     }
    },
    "outputId": "28f0f360-83e8-471e-c45e-7fa5981380ef",
    "colab": {
     "base_uri": "https://localhost:8080/",
     "height": 55
    }
   },
   "source": [
    "print(bert_history_att.history)"
   ],
   "execution_count": null,
   "outputs": [
    {
     "output_type": "stream",
     "text": [
      "{'loss': [0.4271378219127655, 0.49445512890815735, 0.4938468635082245, 0.5034235715866089, 0.4962282180786133], 'accuracy': [0.8269799947738647, 0.8116990327835083, 0.813424289226532, 0.8126848936080933, 0.8130956292152405], 'val_loss': [0.4086622893810272, 0.48091816902160645, 0.4885491132736206, 0.48036473989486694, 0.4820842444896698], 'val_accuracy': [0.8206307291984558, 0.8157029747962952, 0.8157029747962952, 0.8157029747962952, 0.8157029747962952], 'lr': [1e-05, 0.00014, 0.00027, 0.0004, 0.000322]}\n"
     ],
     "name": "stdout"
    }
   ]
  },
  {
   "cell_type": "code",
   "metadata": {
    "id": "LDzsu16hCdR2",
    "executionInfo": {
     "status": "ok",
     "timestamp": 1592140078622,
     "user_tz": -120,
     "elapsed": 2448254,
     "user": {
      "displayName": "Jocelin pitteloud",
      "photoUrl": "",
      "userId": "16272144833403683875"
     }
    },
    "outputId": "cd0575db-60f9-4c73-ac40-0267b54e486a",
    "colab": {
     "base_uri": "https://localhost:8080/",
     "height": 591
    }
   },
   "source": [
    "plt.plot(bert_history_att.history['accuracy'])\n",
    "plt.plot(bert_history_att.history['val_accuracy'])\n",
    "\n",
    "plt.title('model accuracy')\n",
    "plt.ylabel('accuracy')\n",
    "plt.xlabel('epoch')\n",
    "plt.legend(['train','test'], loc='upper left')\n",
    "plt.show()\n",
    "\n",
    "plt.savefig('/content/drive/My Drive/plt_acc_att.png')\n",
    "\n",
    "plt.plot(bert_history_att.history['loss'])\n",
    "plt.plot(bert_history_att.history['val_loss'])\n",
    "\n",
    "plt.title('model loss')\n",
    "plt.ylabel('loss')\n",
    "plt.xlabel('epoch')\n",
    "plt.legend(['train','test'], loc='upper left')\n",
    "plt.show()\n",
    "\n",
    "plt.savefig('/content/drive/My Drive/plt_loss_att.png')"
   ],
   "execution_count": null,
   "outputs": [
    {
     "output_type": "display_data",
     "data": {
      "image/png": "[encoded data removed]",
      "text/plain": [
       "<Figure size 432x288 with 1 Axes>"
      ]
     },
     "metadata": {
      "tags": [],
      "needs_background": "light"
     }
    },
    {
     "output_type": "display_data",
     "data": {
      "image/png": "[encoded data removed]",
      "text/plain": [
       "<Figure size 432x288 with 1 Axes>"
      ]
     },
     "metadata": {
      "tags": [],
      "needs_background": "light"
     }
    },
    {
     "output_type": "display_data",
     "data": {
      "text/plain": [
       "<Figure size 432x288 with 0 Axes>"
      ]
     },
     "metadata": {
      "tags": []
     }
    }
   ]
  },
  {
   "cell_type": "code",
   "metadata": {
    "id": "kLtiorpMDieP",
    "executionInfo": {
     "status": "ok",
     "timestamp": 1592149254884,
     "user_tz": -120,
     "elapsed": 855,
     "user": {
      "displayName": "Jocelin pitteloud",
      "photoUrl": "",
      "userId": "16272144833403683875"
     }
    },
    "outputId": "056321d6-9a31-464a-c06d-b94f90cd8288",
    "colab": {
     "base_uri": "https://localhost:8080/",
     "height": 591
    }
   },
   "source": [
    "plt.plot(bert_history_apt.history['accuracy'])\n",
    "plt.plot(bert_history_apt.history['val_accuracy'])\n",
    "\n",
    "plt.title('model accuracy')\n",
    "plt.ylabel('accuracy')\n",
    "plt.xlabel('epoch')\n",
    "plt.legend(['train','test'], loc='upper left')\n",
    "plt.show()\n",
    "\n",
    "plt.savefig('/content/drive/My Drive/plt_acc_apt.png')\n",
    "\n",
    "plt.plot(bert_history_apt.history['loss'])\n",
    "plt.plot(bert_history_apt.history['val_loss'])\n",
    "\n",
    "plt.title('model loss')\n",
    "plt.ylabel('loss')\n",
    "plt.xlabel('epoch')\n",
    "plt.legend(['train','test'], loc='upper left')\n",
    "plt.show()\n",
    "\n",
    "plt.savefig('/content/drive/My Drive/plt_loss_apt.png')"
   ],
   "execution_count": null,
   "outputs": [
    {
     "output_type": "display_data",
     "data": {
      "image/png": "[encoded data removed]",
      "text/plain": [
       "<Figure size 432x288 with 1 Axes>"
      ]
     },
     "metadata": {
      "tags": [],
      "needs_background": "light"
     }
    },
    {
     "output_type": "display_data",
     "data": {
      "image/png": "[encoded data removed]",
      "text/plain": [
       "<Figure size 432x288 with 1 Axes>"
      ]
     },
     "metadata": {
      "tags": [],
      "needs_background": "light"
     }
    },
    {
     "output_type": "display_data",
     "data": {
      "text/plain": [
       "<Figure size 432x288 with 0 Axes>"
      ]
     },
     "metadata": {
      "tags": []
     }
    }
   ]
  },
  {
   "cell_type": "code",
   "metadata": {
    "id": "osT1hBI9Diwl",
    "executionInfo": {
     "status": "ok",
     "timestamp": 1592149255286,
     "user_tz": -120,
     "elapsed": 407,
     "user": {
      "displayName": "Jocelin pitteloud",
      "photoUrl": "",
      "userId": "16272144833403683875"
     }
    },
    "outputId": "0853b2f8-cd4b-4341-ff4b-53a5d0f968aa",
    "colab": {
     "base_uri": "https://localhost:8080/",
     "height": 591
    }
   },
   "source": [
    "plt.plot(bert_history_sens.history['accuracy'])\n",
    "plt.plot(bert_history_sens.history['val_accuracy'])\n",
    "\n",
    "plt.title('model accuracy')\n",
    "plt.ylabel('accuracy')\n",
    "plt.xlabel('epoch')\n",
    "plt.legend(['train','test'], loc='upper left')\n",
    "plt.show()\n",
    "\n",
    "plt.savefig('/content/drive/My Drive/plt_acc_sens.png')\n",
    "\n",
    "plt.plot(bert_history_sens.history['loss'])\n",
    "plt.plot(bert_history_sens.history['val_loss'])\n",
    "\n",
    "plt.title('model loss')\n",
    "plt.ylabel('loss')\n",
    "plt.xlabel('epoch')\n",
    "plt.legend(['train','test'], loc='upper left')\n",
    "plt.show()\n",
    "\n",
    "plt.savefig('/content/drive/My Drive/plt_loss_sens.png')"
   ],
   "execution_count": null,
   "outputs": [
    {
     "output_type": "display_data",
     "data": {
      "image/png": "[encoded data removed]",
      "text/plain": [
       "<Figure size 432x288 with 1 Axes>"
      ]
     },
     "metadata": {
      "tags": [],
      "needs_background": "light"
     }
    },
    {
     "output_type": "display_data",
     "data": {
      "image/png": "[encoded data removed]",
      "text/plain": [
       "<Figure size 432x288 with 1 Axes>"
      ]
     },
     "metadata": {
      "tags": [],
      "needs_background": "light"
     }
    },
    {
     "output_type": "display_data",
     "data": {
      "text/plain": [
       "<Figure size 432x288 with 0 Axes>"
      ]
     },
     "metadata": {
      "tags": []
     }
    }
   ]
  },
  {
   "cell_type": "code",
   "metadata": {
    "id": "kGboTiEjDjHo",
    "executionInfo": {
     "status": "ok",
     "timestamp": 1592149255518,
     "user_tz": -120,
     "elapsed": 237,
     "user": {
      "displayName": "Jocelin pitteloud",
      "photoUrl": "",
      "userId": "16272144833403683875"
     }
    },
    "outputId": "64d6489d-5746-4160-ab64-d038ef8b6748",
    "colab": {
     "base_uri": "https://localhost:8080/",
     "height": 591
    }
   },
   "source": [
    "plt.plot(bert_history_plea.history['accuracy'])\n",
    "plt.plot(bert_history_plea.history['val_accuracy'])\n",
    "\n",
    "plt.title('model accuracy')\n",
    "plt.ylabel('accuracy')\n",
    "plt.xlabel('epoch')\n",
    "plt.legend(['train','test'], loc='upper left')\n",
    "plt.show()\n",
    "\n",
    "plt.savefig('/content/drive/My Drive/plt_acc_plea.png')\n",
    "\n",
    "plt.plot(bert_history_plea.history['loss'])\n",
    "plt.plot(bert_history_plea.history['val_loss'])\n",
    "\n",
    "plt.title('model loss')\n",
    "plt.ylabel('loss')\n",
    "plt.xlabel('epoch')\n",
    "plt.legend(['train','test'], loc='upper left')\n",
    "plt.show()\n",
    "\n",
    "plt.savefig('/content/drive/My Drive/plt_loss_plea.png')"
   ],
   "execution_count": null,
   "outputs": [
    {
     "output_type": "display_data",
     "data": {
      "image/png": "[encoded data removed]",
      "text/plain": [
       "<Figure size 432x288 with 1 Axes>"
      ]
     },
     "metadata": {
      "tags": [],
      "needs_background": "light"
     }
    },
    {
     "output_type": "display_data",
     "data": {
      "image/png": "[encoded data removed]",
      "text/plain": [
       "<Figure size 432x288 with 1 Axes>"
      ]
     },
     "metadata": {
      "tags": [],
      "needs_background": "light"
     }
    },
    {
     "output_type": "display_data",
     "data": {
      "text/plain": [
       "<Figure size 432x288 with 0 Axes>"
      ]
     },
     "metadata": {
      "tags": []
     }
    }
   ]
  },
  {
   "cell_type": "code",
   "metadata": {
    "id": "oFz7age0P5EH"
   },
   "source": [
    "WM_DF_dropna[['1vA_aptitude','1vA_attention','1vA_pleasantness','1vA_sensitivity']].sum()"
   ],
   "execution_count": null,
   "outputs": []
  },
  {
   "cell_type": "markdown",
   "metadata": {
    "id": "4uXIgFMLFONo"
   },
   "source": [
    "#Save"
   ]
  },
  {
   "cell_type": "code",
   "metadata": {
    "id": "08ZFuzlFFrjE"
   },
   "source": [
    "from keras.models import load_model"
   ],
   "execution_count": null,
   "outputs": []
  },
  {
   "cell_type": "code",
   "metadata": {
    "id": "FUHgBgRBFNkn"
   },
   "source": [
    "model_apt.save_weights('/content/drive/My Drive/model_apt.h5')\n",
    "model_att.save_weights('/content/drive/My Drive/model_att.h5')\n",
    "model_sens.save_weights('/content/drive/My Drive/model_sens.h5')\n",
    "model_plea.save_weights('/content/drive/My Drive/model_plea.h5')"
   ],
   "execution_count": null,
   "outputs": []
  }
 ]
}