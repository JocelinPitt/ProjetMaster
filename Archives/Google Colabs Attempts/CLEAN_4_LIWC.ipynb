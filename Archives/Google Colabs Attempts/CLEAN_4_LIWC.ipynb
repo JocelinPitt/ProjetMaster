{
 "nbformat": 4,
 "nbformat_minor": 0,
 "metadata": {
  "colab": {
   "name": "CLEAN_4_LIWC.ipynb",
   "provenance": [],
   "authorship_tag": "ABX9TyPeMEdnCq31FOjc80cNKk2q"
  },
  "kernelspec": {
   "name": "python3",
   "display_name": "Python 3"
  },
  "language_info": {
   "name": "python"
  }
 },
 "cells": [
  {
   "cell_type": "markdown",
   "source": [
    "This is an early attempt to clean my data to perform an LWIC analysis"
   ],
   "metadata": {
    "collapsed": false,
    "pycharm": {
     "name": "#%% md\n"
    }
   }
  },
  {
   "cell_type": "code",
   "metadata": {
    "colab": {
     "base_uri": "https://localhost:8080/"
    },
    "id": "3b4MOfZ5hA0-",
    "executionInfo": {
     "status": "ok",
     "timestamp": 1623079166491,
     "user_tz": -120,
     "elapsed": 36518,
     "user": {
      "displayName": "Jocelin pitteloud",
      "photoUrl": "",
      "userId": "16272144833403683875"
     }
    },
    "outputId": "76a02a70-9c0f-45d0-c851-cac391301694"
   },
   "source": [
    "from google.colab import drive\n",
    "drive.mount('/content/drive', force_remount=True)"
   ],
   "execution_count": 1,
   "outputs": [
    {
     "output_type": "stream",
     "text": [
      "Mounted at /content/drive\n"
     ],
     "name": "stdout"
    }
   ]
  },
  {
   "cell_type": "code",
   "metadata": {
    "id": "flmOuVrTWRgU",
    "executionInfo": {
     "status": "ok",
     "timestamp": 1623079166492,
     "user_tz": -120,
     "elapsed": 7,
     "user": {
      "displayName": "Jocelin pitteloud",
      "photoUrl": "",
      "userId": "16272144833403683875"
     }
    }
   },
   "source": [
    "import warnings\n",
    "\n",
    "warnings.filterwarnings('ignore')"
   ],
   "execution_count": 2,
   "outputs": []
  },
  {
   "cell_type": "code",
   "metadata": {
    "id": "WjaD0aAShEfb",
    "executionInfo": {
     "status": "ok",
     "timestamp": 1623079167575,
     "user_tz": -120,
     "elapsed": 1089,
     "user": {
      "displayName": "Jocelin pitteloud",
      "photoUrl": "",
      "userId": "16272144833403683875"
     }
    }
   },
   "source": [
    "import re\n",
    "import json\n",
    "import pandas as pd\n",
    "import numpy as np\n",
    "import spacy\n",
    "\n",
    "from numpy import nan"
   ],
   "execution_count": 3,
   "outputs": []
  },
  {
   "cell_type": "code",
   "metadata": {
    "id": "RjNXBQlThHUL"
   },
   "source": [
    "file = '/content/drive/My Drive/Save_3.txt'\n",
    "\n",
    "with open(file, mode='r+', encoding=\"utf-8\") as script:\n",
    "\tdeveloper = json.load(script)\n",
    "script.close()\n",
    "developer = re.sub(r'null','None',developer)\n",
    "\n",
    "DF1t = pd.DataFrame.from_dict(eval(developer))\n",
    "DF_ScriptPersoFilm = DF1t.T"
   ],
   "execution_count": null,
   "outputs": []
  },
  {
   "cell_type": "code",
   "metadata": {
    "colab": {
     "base_uri": "https://localhost:8080/",
     "height": 424
    },
    "id": "EhFVvSmThRIi",
    "executionInfo": {
     "status": "ok",
     "timestamp": 1622729165515,
     "user_tz": -120,
     "elapsed": 16,
     "user": {
      "displayName": "Jocelin pitteloud",
      "photoUrl": "",
      "userId": "16272144833403683875"
     }
    },
    "outputId": "a6206b14-8a19-40c0-dcad-c5878896d595"
   },
   "source": [
    "DF_ScriptPersoFilm"
   ],
   "execution_count": null,
   "outputs": [
    {
     "output_type": "execute_result",
     "data": {
      "text/html": [
       "<div>\n",
       "<style scoped>\n",
       "    .dataframe tbody tr th:only-of-type {\n",
       "        vertical-align: middle;\n",
       "    }\n",
       "\n",
       "    .dataframe tbody tr th {\n",
       "        vertical-align: top;\n",
       "    }\n",
       "\n",
       "    .dataframe thead th {\n",
       "        text-align: right;\n",
       "    }\n",
       "</style>\n",
       "<table border=\"1\" class=\"dataframe\">\n",
       "  <thead>\n",
       "    <tr style=\"text-align: right;\">\n",
       "      <th></th>\n",
       "      <th>Movie</th>\n",
       "      <th>Character</th>\n",
       "      <th>Speech</th>\n",
       "    </tr>\n",
       "  </thead>\n",
       "  <tbody>\n",
       "    <tr>\n",
       "      <th>0</th>\n",
       "      <td>10thingsihateaboutyou.txt</td>\n",
       "      <td>RIDER</td>\n",
       "      <td>Hey -- sorry. Hey -- sorry. Hey -- sorry. Hey ...</td>\n",
       "    </tr>\n",
       "    <tr>\n",
       "      <th>1</th>\n",
       "      <td>10thingsihateaboutyou.txt</td>\n",
       "      <td>KAT</td>\n",
       "      <td>Leave it I said, leave it! Why didn't we just ...</td>\n",
       "    </tr>\n",
       "    <tr>\n",
       "      <th>2</th>\n",
       "      <td>10thingsihateaboutyou.txt</td>\n",
       "      <td>BIANCA</td>\n",
       "      <td>Did you change your hair? You might wanna thin...</td>\n",
       "    </tr>\n",
       "    <tr>\n",
       "      <th>3</th>\n",
       "      <td>10thingsihateaboutyou.txt</td>\n",
       "      <td>CHASTITY</td>\n",
       "      <td>No. Who? Great Is he oily or dry? Bianca, I do...</td>\n",
       "    </tr>\n",
       "    <tr>\n",
       "      <th>4</th>\n",
       "      <td>10thingsihateaboutyou.txt</td>\n",
       "      <td>BOY</td>\n",
       "      <td>Hey, Bianca. Hey, Bianca.</td>\n",
       "    </tr>\n",
       "    <tr>\n",
       "      <th>...</th>\n",
       "      <td>...</td>\n",
       "      <td>...</td>\n",
       "      <td>...</td>\n",
       "    </tr>\n",
       "    <tr>\n",
       "      <th>42917</th>\n",
       "      <td>zerophilia.txt</td>\n",
       "      <td>MALE SYDNEY</td>\n",
       "      <td>Come on, let's grab a couple beers. I do love ...</td>\n",
       "    </tr>\n",
       "    <tr>\n",
       "      <th>42918</th>\n",
       "      <td>zerophilia.txt</td>\n",
       "      <td>MALE SYDNEY (CONT'D)</td>\n",
       "      <td>Of course, I see you brought your own six-pack...</td>\n",
       "    </tr>\n",
       "    <tr>\n",
       "      <th>42919</th>\n",
       "      <td>zerophilia.txt</td>\n",
       "      <td>LUCA</td>\n",
       "      <td>And I don't know what half of who the hell I a...</td>\n",
       "    </tr>\n",
       "    <tr>\n",
       "      <th>42920</th>\n",
       "      <td>zerophilia.txt</td>\n",
       "      <td>LUCA (CONT'D)</td>\n",
       "      <td>Not too practical. But at least now I know.</td>\n",
       "    </tr>\n",
       "    <tr>\n",
       "      <th>42921</th>\n",
       "      <td>zerophilia.txt</td>\n",
       "      <td>POLLY (CONT'D)</td>\n",
       "      <td>How about we get a game in before dawn?</td>\n",
       "    </tr>\n",
       "  </tbody>\n",
       "</table>\n",
       "<p>42922 rows × 3 columns</p>\n",
       "</div>"
      ],
      "text/plain": [
       "                           Movie  ...                                             Speech\n",
       "0      10thingsihateaboutyou.txt  ...  Hey -- sorry. Hey -- sorry. Hey -- sorry. Hey ...\n",
       "1      10thingsihateaboutyou.txt  ...  Leave it I said, leave it! Why didn't we just ...\n",
       "2      10thingsihateaboutyou.txt  ...  Did you change your hair? You might wanna thin...\n",
       "3      10thingsihateaboutyou.txt  ...  No. Who? Great Is he oily or dry? Bianca, I do...\n",
       "4      10thingsihateaboutyou.txt  ...                          Hey, Bianca. Hey, Bianca.\n",
       "...                          ...  ...                                                ...\n",
       "42917             zerophilia.txt  ...  Come on, let's grab a couple beers. I do love ...\n",
       "42918             zerophilia.txt  ...  Of course, I see you brought your own six-pack...\n",
       "42919             zerophilia.txt  ...  And I don't know what half of who the hell I a...\n",
       "42920             zerophilia.txt  ...        Not too practical. But at least now I know.\n",
       "42921             zerophilia.txt  ...            How about we get a game in before dawn?\n",
       "\n",
       "[42922 rows x 3 columns]"
      ]
     },
     "metadata": {
      "tags": []
     },
     "execution_count": 24
    }
   ]
  },
  {
   "cell_type": "code",
   "metadata": {
    "colab": {
     "base_uri": "https://localhost:8080/"
    },
    "id": "RgK4o_Yqi-Rn",
    "executionInfo": {
     "status": "ok",
     "timestamp": 1622729170349,
     "user_tz": -120,
     "elapsed": 414,
     "user": {
      "displayName": "Jocelin pitteloud",
      "photoUrl": "",
      "userId": "16272144833403683875"
     }
    },
    "outputId": "338242f8-1f40-4b89-ddd7-415666b7bec5"
   },
   "source": [
    "DF_ScriptPersoFilm[\"Character\"].str.contains(\"(CONT'D)\")"
   ],
   "execution_count": null,
   "outputs": [
    {
     "output_type": "execute_result",
     "data": {
      "text/plain": [
       "0        False\n",
       "1        False\n",
       "2        False\n",
       "3        False\n",
       "4        False\n",
       "         ...  \n",
       "42917    False\n",
       "42918     True\n",
       "42919    False\n",
       "42920     True\n",
       "42921     True\n",
       "Name: Character, Length: 42922, dtype: bool"
      ]
     },
     "metadata": {
      "tags": []
     },
     "execution_count": 25
    }
   ]
  },
  {
   "cell_type": "code",
   "metadata": {
    "id": "yt1QGEagjbyR"
   },
   "source": [
    "TodoLIST = DF_ScriptPersoFilm.index[DF_ScriptPersoFilm[\"Character\"].str.contains(\"\\(\")==True].tolist()"
   ],
   "execution_count": null,
   "outputs": []
  },
  {
   "cell_type": "code",
   "metadata": {
    "id": "jMa4rTJyOVXb"
   },
   "source": [
    "TodoLIST"
   ],
   "execution_count": null,
   "outputs": []
  },
  {
   "cell_type": "code",
   "metadata": {
    "id": "SBVVQjARQklE"
   },
   "source": [
    "TodoLIST[:50]"
   ],
   "execution_count": null,
   "outputs": []
  },
  {
   "cell_type": "code",
   "metadata": {
    "id": "NZ_a4ul1UYJ5"
   },
   "source": [
    "chara = DF_ScriptPersoFilm[\"Character\"]"
   ],
   "execution_count": null,
   "outputs": []
  },
  {
   "cell_type": "code",
   "metadata": {
    "colab": {
     "base_uri": "https://localhost:8080/"
    },
    "id": "MDqcWY8HOg50",
    "executionInfo": {
     "status": "ok",
     "timestamp": 1622730259067,
     "user_tz": -120,
     "elapsed": 415,
     "user": {
      "displayName": "Jocelin pitteloud",
      "photoUrl": "",
      "userId": "16272144833403683875"
     }
    },
    "outputId": "03110955-b13b-43a6-bc28-c1da82d13a1a"
   },
   "source": [
    "for elem in TodoLIST[:20]:\n",
    "  elem = int(elem)\n",
    "  print(chara[DF_ScriptPersoFilm.index[elem]])"
   ],
   "execution_count": null,
   "outputs": [
    {
     "output_type": "stream",
     "text": [
      "WILLARD (V.O.)\n",
      "COLONEL (O.S.)\n",
      "VOICE (ON TAPE)\n",
      "KURTZ (V.O.)\n",
      "KILGORE (O.S.)\n",
      "RADIO (V.O.)\n",
      "SOLDIER  (O.S.)\n",
      "WILLARD (O.S.)\n",
      "CHIEF (O.S.)\n",
      "KILGORE (V.O.)\n",
      "VOICE (O.S.)\n",
      "SOLDIER (O.S.)\n",
      "FRENCHMAN (O.S.)\n",
      "CHEF (O.S.)\n",
      "MUFFY (CONT)\n",
      "CHAZ (CONT)\n",
      "FERRYMAN (CONT)\n",
      "DUSSANDER (O.S.)\n",
      "TODD (V.O.)\n",
      "TODD (O.S.)\n"
     ],
     "name": "stdout"
    }
   ]
  },
  {
   "cell_type": "code",
   "metadata": {
    "id": "rMsNYRtHRcPz"
   },
   "source": [
    "spee = DF_ScriptPersoFilm[\"Speech\"]"
   ],
   "execution_count": null,
   "outputs": []
  },
  {
   "cell_type": "code",
   "metadata": {
    "id": "KUgiGPw2Xn83"
   },
   "source": [
    "ToDROP = list()"
   ],
   "execution_count": null,
   "outputs": []
  },
  {
   "cell_type": "code",
   "metadata": {
    "colab": {
     "base_uri": "https://localhost:8080/"
    },
    "id": "EC3Ml4Gysz5x",
    "executionInfo": {
     "status": "ok",
     "timestamp": 1622905474344,
     "user_tz": -120,
     "elapsed": 199,
     "user": {
      "displayName": "Jocelin pitteloud",
      "photoUrl": "",
      "userId": "16272144833403683875"
     }
    },
    "outputId": "b2a90be4-b9af-4865-e347-11d1ab97aa18"
   },
   "source": [
    "print(chara[DF_ScriptPersoFilm.index[int(TodoLIST[0])]])"
   ],
   "execution_count": null,
   "outputs": [
    {
     "output_type": "stream",
     "text": [
      "WILLARD (V.O.)\n"
     ],
     "name": "stdout"
    }
   ]
  },
  {
   "cell_type": "code",
   "metadata": {
    "id": "WBWLtwPJN5zT"
   },
   "source": [
    "for elem in TodoLIST[:20]:\n",
    "  elem = int(elem)\n",
    "  temp_name = chara[DF_ScriptPersoFilm.index[elem]]\n",
    "  x = re.split(\"\\s\", temp_name)\n",
    "  print(x)\n",
    "  print(\"X:\" + str(x[0].lower()))"
   ],
   "execution_count": null,
   "outputs": []
  },
  {
   "cell_type": "code",
   "metadata": {
    "id": "JN42z4uWZmBN"
   },
   "source": [
    "for elem in TodoLIST:\n",
    "  elem = int(elem)\n",
    "  temp_name = chara[DF_ScriptPersoFilm.index[elem]]\n",
    "  x = re.split(\"\\s\", temp_name)\n",
    "  if int(elem)< 42921:\n",
    "    catch = 1\n",
    "    DONE = False\n",
    "    while catch < 10 and DONE==False:\n",
    "      if x[0].lower() == chara[DF_ScriptPersoFilm.index[elem-catch]].lower():\n",
    "        print(\"Trouvé: \" + str(catch))\n",
    "        new_raw = spee[DF_ScriptPersoFilm.index[elem]] + \" \" + spee[DF_ScriptPersoFilm.index[elem-catch]]\n",
    "        print(\"1st \" + chara[DF_ScriptPersoFilm.index[elem-catch]])\n",
    "        DF_ScriptPersoFilm.loc[DF_ScriptPersoFilm.Speech == spee[DF_ScriptPersoFilm.index[elem-catch]], 'Speech'] = new_raw\n",
    "        print(\"2nd \" + chara[DF_ScriptPersoFilm.index[elem-catch]])\n",
    "        ToDROP.append(elem)\n",
    "\n",
    "        DONE = True\n",
    "        del new_raw\n",
    "      \n",
    "      else:\n",
    "        catch += 1\n",
    "  \n",
    "  del x\n",
    "  del temp_name"
   ],
   "execution_count": null,
   "outputs": []
  },
  {
   "cell_type": "code",
   "metadata": {
    "id": "KGBKBhMPbaYH",
    "colab": {
     "base_uri": "https://localhost:8080/",
     "height": 36
    },
    "executionInfo": {
     "status": "ok",
     "timestamp": 1622731429485,
     "user_tz": -120,
     "elapsed": 398,
     "user": {
      "displayName": "Jocelin pitteloud",
      "photoUrl": "",
      "userId": "16272144833403683875"
     }
    },
    "outputId": "114a0fed-ebb9-402b-cf71-ed654e3840dd"
   },
   "source": [
    "spee[DF_ScriptPersoFilm.index[ToDROP[0]]]"
   ],
   "execution_count": null,
   "outputs": [
    {
     "output_type": "execute_result",
     "data": {
      "application/vnd.google.colaboratory.intrinsic+json": {
       "type": "string"
      },
      "text/plain": [
       "\"You could tell it made her nervous. Ready? Okay! Geek extraordinaire - a walking left brain.  She's supposed to have this genius I.Q.?\""
      ]
     },
     "metadata": {
      "tags": []
     },
     "execution_count": 65
    }
   ]
  },
  {
   "cell_type": "code",
   "metadata": {
    "id": "JCCGZSHAb4Lr",
    "colab": {
     "base_uri": "https://localhost:8080/",
     "height": 109
    },
    "executionInfo": {
     "status": "ok",
     "timestamp": 1622731432517,
     "user_tz": -120,
     "elapsed": 357,
     "user": {
      "displayName": "Jocelin pitteloud",
      "photoUrl": "",
      "userId": "16272144833403683875"
     }
    },
    "outputId": "983fac35-e07f-4bf4-fbf4-96aa88ab8cae"
   },
   "source": [
    "spee[DF_ScriptPersoFilm.index[ToDROP[0]-1]]"
   ],
   "execution_count": null,
   "outputs": [
    {
     "output_type": "execute_result",
     "data": {
      "application/vnd.google.colaboratory.intrinsic+json": {
       "type": "string"
      },
      "text/plain": [
       "'You could tell it made her nervous. Ready? Okay! Geek extraordinaire - a walking left brain.  She\\'s supposed to have this genius I.Q.? You could tell it made her nervous. Ready? Okay! Geek extraordinaire - a walking left brain.  She\\'s supposed to have this genius I.Q.? You could tell it made her nervous. Ready? Okay! Geek extraordinaire - a walking left brain.  She\\'s supposed to have this genius I.Q.? This really should have been my year.  I had a lotta work done - I-I mean, y\\'know, I\\'d done a lotta work over the summer. First, there\\'s Hannah Wold... She\\'s their base.  Strong as an ox. She\\'s like this Uber-Christian - doesn\\'t say much.  I mean, if she wasn\\'t kinda pretty, you\\'d go, \"Hey, who\\'s the tard?\" Then, there\\'s Cleo Miller... Number one - not a natural blonde. I know.  I\\'ve been in the locker room and seen south of the border.  Number two -- She has to see the school shrink. Turns out it\\'s Kansas\\' dad, uh, taking a nurse\\'s temp.  Stay with me, I\\'m trying to be delicate. So, Mrs. Hill whips out a shotgun and blows his ass to kingdom come. Jury said, because the majority of women in Lincoln County having babies don\\'t bring a shotgun, it counted as premeditation. Then there\\'s Lucy... Truth is, she\\'s an obsessive-compulsive little freak. Hands in, ladies. Now, I know it\\'s my duty to give you all the facts, so I have to say that their cheer blew like a bulimic after Christmas dinner.  Their blatant disregard for National High School Cheerleading Association rules made me sick.  \"Basket toss flips and wolf wall pyramids over two people high are strictly prohibited.\"  I made a complete report and sent it in. And finally, the football team was introduced. Especially not Jack... He fell for her hard. Jack was fine - oh man, was he fine.  It was like he was a bar of chocolate and the whole school was on the rag - everyone wanted a piece of him... \"Your Jack\\'s one heck of a good football player.\" \"I don\\'t know how he can concentrate with your lovely Diane cheering on the sidelines?!\" \"Ha, ha, ha, ha...\" Ucht! I immediately started helping local police with their investigation.'"
      ]
     },
     "metadata": {
      "tags": []
     },
     "execution_count": 66
    }
   ]
  },
  {
   "cell_type": "code",
   "metadata": {
    "colab": {
     "base_uri": "https://localhost:8080/"
    },
    "id": "lrFymr98uBL2",
    "executionInfo": {
     "status": "ok",
     "timestamp": 1622905950312,
     "user_tz": -120,
     "elapsed": 203,
     "user": {
      "displayName": "Jocelin pitteloud",
      "photoUrl": "",
      "userId": "16272144833403683875"
     }
    },
    "outputId": "19d2bb65-1130-4ea5-d3bd-666ff844eb66"
   },
   "source": [
    "print(ToDROP[-1])\n",
    "print(TodoLIST[-1])"
   ],
   "execution_count": null,
   "outputs": [
    {
     "output_type": "stream",
     "text": [
      "42920\n",
      "42921\n"
     ],
     "name": "stdout"
    }
   ]
  },
  {
   "cell_type": "code",
   "metadata": {
    "colab": {
     "base_uri": "https://localhost:8080/"
    },
    "id": "7hZtCE-juoWE",
    "executionInfo": {
     "status": "ok",
     "timestamp": 1622906033434,
     "user_tz": -120,
     "elapsed": 211,
     "user": {
      "displayName": "Jocelin pitteloud",
      "photoUrl": "",
      "userId": "16272144833403683875"
     }
    },
    "outputId": "cd9a1da2-00ba-4a74-80cc-aed0643093f2"
   },
   "source": [
    "print(chara[DF_ScriptPersoFilm.index[ToDROP[-1]]])\n",
    "print(chara[DF_ScriptPersoFilm.index[int(TodoLIST[-2])]])"
   ],
   "execution_count": null,
   "outputs": [
    {
     "output_type": "stream",
     "text": [
      "LUCA (CONT'D)\n",
      "LUCA (CONT'D)\n"
     ],
     "name": "stdout"
    }
   ]
  },
  {
   "cell_type": "code",
   "metadata": {
    "colab": {
     "base_uri": "https://localhost:8080/",
     "height": 36
    },
    "id": "oxWY57n7urqN",
    "executionInfo": {
     "status": "ok",
     "timestamp": 1622905971502,
     "user_tz": -120,
     "elapsed": 206,
     "user": {
      "displayName": "Jocelin pitteloud",
      "photoUrl": "",
      "userId": "16272144833403683875"
     }
    },
    "outputId": "0a92826e-3622-4299-be43-58528ce7141b"
   },
   "source": [
    "chara[DF_ScriptPersoFilm.index[ToDROP[-1]-1]]"
   ],
   "execution_count": null,
   "outputs": [
    {
     "output_type": "execute_result",
     "data": {
      "application/vnd.google.colaboratory.intrinsic+json": {
       "type": "string"
      },
      "text/plain": [
       "'LUCA'"
      ]
     },
     "metadata": {
      "tags": []
     },
     "execution_count": 22
    }
   ]
  },
  {
   "cell_type": "code",
   "metadata": {
    "id": "eFc3FjDVXyfZ"
   },
   "source": [
    "DF_final = DF_ScriptPersoFilm.drop(DF_ScriptPersoFilm.index[[int(x) for x in TodoLIST]])"
   ],
   "execution_count": null,
   "outputs": []
  },
  {
   "cell_type": "code",
   "metadata": {
    "id": "NJ5ug8YmKPm7"
   },
   "source": [
    "ToDROP"
   ],
   "execution_count": null,
   "outputs": []
  },
  {
   "cell_type": "code",
   "metadata": {
    "colab": {
     "base_uri": "https://localhost:8080/",
     "height": 424
    },
    "id": "bjgGXVSnYS8z",
    "executionInfo": {
     "status": "ok",
     "timestamp": 1622906161221,
     "user_tz": -120,
     "elapsed": 223,
     "user": {
      "displayName": "Jocelin pitteloud",
      "photoUrl": "",
      "userId": "16272144833403683875"
     }
    },
    "outputId": "038c4c53-f89f-4393-bed4-268cbcf91cfd"
   },
   "source": [
    "DF_final"
   ],
   "execution_count": null,
   "outputs": [
    {
     "output_type": "execute_result",
     "data": {
      "text/html": [
       "<div>\n",
       "<style scoped>\n",
       "    .dataframe tbody tr th:only-of-type {\n",
       "        vertical-align: middle;\n",
       "    }\n",
       "\n",
       "    .dataframe tbody tr th {\n",
       "        vertical-align: top;\n",
       "    }\n",
       "\n",
       "    .dataframe thead th {\n",
       "        text-align: right;\n",
       "    }\n",
       "</style>\n",
       "<table border=\"1\" class=\"dataframe\">\n",
       "  <thead>\n",
       "    <tr style=\"text-align: right;\">\n",
       "      <th></th>\n",
       "      <th>Movie</th>\n",
       "      <th>Character</th>\n",
       "      <th>Speech</th>\n",
       "    </tr>\n",
       "  </thead>\n",
       "  <tbody>\n",
       "    <tr>\n",
       "      <th>0</th>\n",
       "      <td>10thingsihateaboutyou.txt</td>\n",
       "      <td>RIDER</td>\n",
       "      <td>Hey -- sorry. Hey -- sorry. Hey -- sorry. Hey ...</td>\n",
       "    </tr>\n",
       "    <tr>\n",
       "      <th>1</th>\n",
       "      <td>10thingsihateaboutyou.txt</td>\n",
       "      <td>KAT</td>\n",
       "      <td>Leave it I said, leave it! Why didn't we just ...</td>\n",
       "    </tr>\n",
       "    <tr>\n",
       "      <th>2</th>\n",
       "      <td>10thingsihateaboutyou.txt</td>\n",
       "      <td>BIANCA</td>\n",
       "      <td>Did you change your hair? You might wanna thin...</td>\n",
       "    </tr>\n",
       "    <tr>\n",
       "      <th>3</th>\n",
       "      <td>10thingsihateaboutyou.txt</td>\n",
       "      <td>CHASTITY</td>\n",
       "      <td>No. Who? Great Is he oily or dry? Bianca, I do...</td>\n",
       "    </tr>\n",
       "    <tr>\n",
       "      <th>4</th>\n",
       "      <td>10thingsihateaboutyou.txt</td>\n",
       "      <td>BOY</td>\n",
       "      <td>Hey, Bianca. Hey, Bianca.</td>\n",
       "    </tr>\n",
       "    <tr>\n",
       "      <th>...</th>\n",
       "      <td>...</td>\n",
       "      <td>...</td>\n",
       "      <td>...</td>\n",
       "    </tr>\n",
       "    <tr>\n",
       "      <th>42911</th>\n",
       "      <td>zerophilia.txt</td>\n",
       "      <td>SYDNEY</td>\n",
       "      <td>Your friend here has an extra chromosome. I te...</td>\n",
       "    </tr>\n",
       "    <tr>\n",
       "      <th>42914</th>\n",
       "      <td>zerophilia.txt</td>\n",
       "      <td>JEREMY</td>\n",
       "      <td>You've been staring at him all night. You got ...</td>\n",
       "    </tr>\n",
       "    <tr>\n",
       "      <th>42916</th>\n",
       "      <td>zerophilia.txt</td>\n",
       "      <td>MAX</td>\n",
       "      <td>I was lookin' for Luke. How ya' doin'?</td>\n",
       "    </tr>\n",
       "    <tr>\n",
       "      <th>42917</th>\n",
       "      <td>zerophilia.txt</td>\n",
       "      <td>MALE SYDNEY</td>\n",
       "      <td>Come on, let's grab a couple beers. I do love ...</td>\n",
       "    </tr>\n",
       "    <tr>\n",
       "      <th>42919</th>\n",
       "      <td>zerophilia.txt</td>\n",
       "      <td>LUCA</td>\n",
       "      <td>Not too practical. But at least now I know. An...</td>\n",
       "    </tr>\n",
       "  </tbody>\n",
       "</table>\n",
       "<p>34945 rows × 3 columns</p>\n",
       "</div>"
      ],
      "text/plain": [
       "                           Movie  ...                                             Speech\n",
       "0      10thingsihateaboutyou.txt  ...  Hey -- sorry. Hey -- sorry. Hey -- sorry. Hey ...\n",
       "1      10thingsihateaboutyou.txt  ...  Leave it I said, leave it! Why didn't we just ...\n",
       "2      10thingsihateaboutyou.txt  ...  Did you change your hair? You might wanna thin...\n",
       "3      10thingsihateaboutyou.txt  ...  No. Who? Great Is he oily or dry? Bianca, I do...\n",
       "4      10thingsihateaboutyou.txt  ...                          Hey, Bianca. Hey, Bianca.\n",
       "...                          ...  ...                                                ...\n",
       "42911             zerophilia.txt  ...  Your friend here has an extra chromosome. I te...\n",
       "42914             zerophilia.txt  ...  You've been staring at him all night. You got ...\n",
       "42916             zerophilia.txt  ...             I was lookin' for Luke. How ya' doin'?\n",
       "42917             zerophilia.txt  ...  Come on, let's grab a couple beers. I do love ...\n",
       "42919             zerophilia.txt  ...  Not too practical. But at least now I know. An...\n",
       "\n",
       "[34945 rows x 3 columns]"
      ]
     },
     "metadata": {
      "tags": []
     },
     "execution_count": 29
    }
   ]
  },
  {
   "cell_type": "code",
   "metadata": {
    "id": "rCdqmjlehSDx"
   },
   "source": [
    "DF_final = DF_final.reset_index(drop=True)"
   ],
   "execution_count": null,
   "outputs": []
  },
  {
   "cell_type": "code",
   "metadata": {
    "colab": {
     "base_uri": "https://localhost:8080/",
     "height": 424
    },
    "id": "8iTcKYGrzzJt",
    "executionInfo": {
     "status": "ok",
     "timestamp": 1622907330839,
     "user_tz": -120,
     "elapsed": 206,
     "user": {
      "displayName": "Jocelin pitteloud",
      "photoUrl": "",
      "userId": "16272144833403683875"
     }
    },
    "outputId": "6cad730e-4be2-4ca8-ad6b-c63af7e0f6c0"
   },
   "source": [
    "DF_final "
   ],
   "execution_count": null,
   "outputs": [
    {
     "output_type": "execute_result",
     "data": {
      "text/html": [
       "<div>\n",
       "<style scoped>\n",
       "    .dataframe tbody tr th:only-of-type {\n",
       "        vertical-align: middle;\n",
       "    }\n",
       "\n",
       "    .dataframe tbody tr th {\n",
       "        vertical-align: top;\n",
       "    }\n",
       "\n",
       "    .dataframe thead th {\n",
       "        text-align: right;\n",
       "    }\n",
       "</style>\n",
       "<table border=\"1\" class=\"dataframe\">\n",
       "  <thead>\n",
       "    <tr style=\"text-align: right;\">\n",
       "      <th></th>\n",
       "      <th>Movie</th>\n",
       "      <th>Character</th>\n",
       "      <th>Speech</th>\n",
       "    </tr>\n",
       "  </thead>\n",
       "  <tbody>\n",
       "    <tr>\n",
       "      <th>0</th>\n",
       "      <td>10thingsihateaboutyou.txt</td>\n",
       "      <td>RIDER</td>\n",
       "      <td>Hey -- sorry. Hey -- sorry. Hey -- sorry. Hey ...</td>\n",
       "    </tr>\n",
       "    <tr>\n",
       "      <th>1</th>\n",
       "      <td>10thingsihateaboutyou.txt</td>\n",
       "      <td>KAT</td>\n",
       "      <td>Leave it I said, leave it! Why didn't we just ...</td>\n",
       "    </tr>\n",
       "    <tr>\n",
       "      <th>2</th>\n",
       "      <td>10thingsihateaboutyou.txt</td>\n",
       "      <td>BIANCA</td>\n",
       "      <td>Did you change your hair? You might wanna thin...</td>\n",
       "    </tr>\n",
       "    <tr>\n",
       "      <th>3</th>\n",
       "      <td>10thingsihateaboutyou.txt</td>\n",
       "      <td>CHASTITY</td>\n",
       "      <td>No. Who? Great Is he oily or dry? Bianca, I do...</td>\n",
       "    </tr>\n",
       "    <tr>\n",
       "      <th>4</th>\n",
       "      <td>10thingsihateaboutyou.txt</td>\n",
       "      <td>BOY</td>\n",
       "      <td>Hey, Bianca. Hey, Bianca.</td>\n",
       "    </tr>\n",
       "    <tr>\n",
       "      <th>...</th>\n",
       "      <td>...</td>\n",
       "      <td>...</td>\n",
       "      <td>...</td>\n",
       "    </tr>\n",
       "    <tr>\n",
       "      <th>34940</th>\n",
       "      <td>zerophilia.txt</td>\n",
       "      <td>SYDNEY</td>\n",
       "      <td>Your friend here has an extra chromosome. I te...</td>\n",
       "    </tr>\n",
       "    <tr>\n",
       "      <th>34941</th>\n",
       "      <td>zerophilia.txt</td>\n",
       "      <td>JEREMY</td>\n",
       "      <td>You've been staring at him all night. You got ...</td>\n",
       "    </tr>\n",
       "    <tr>\n",
       "      <th>34942</th>\n",
       "      <td>zerophilia.txt</td>\n",
       "      <td>MAX</td>\n",
       "      <td>I was lookin' for Luke. How ya' doin'?</td>\n",
       "    </tr>\n",
       "    <tr>\n",
       "      <th>34943</th>\n",
       "      <td>zerophilia.txt</td>\n",
       "      <td>MALE SYDNEY</td>\n",
       "      <td>Come on, let's grab a couple beers. I do love ...</td>\n",
       "    </tr>\n",
       "    <tr>\n",
       "      <th>34944</th>\n",
       "      <td>zerophilia.txt</td>\n",
       "      <td>LUCA</td>\n",
       "      <td>Not too practical. But at least now I know. An...</td>\n",
       "    </tr>\n",
       "  </tbody>\n",
       "</table>\n",
       "<p>34945 rows × 3 columns</p>\n",
       "</div>"
      ],
      "text/plain": [
       "                           Movie  ...                                             Speech\n",
       "0      10thingsihateaboutyou.txt  ...  Hey -- sorry. Hey -- sorry. Hey -- sorry. Hey ...\n",
       "1      10thingsihateaboutyou.txt  ...  Leave it I said, leave it! Why didn't we just ...\n",
       "2      10thingsihateaboutyou.txt  ...  Did you change your hair? You might wanna thin...\n",
       "3      10thingsihateaboutyou.txt  ...  No. Who? Great Is he oily or dry? Bianca, I do...\n",
       "4      10thingsihateaboutyou.txt  ...                          Hey, Bianca. Hey, Bianca.\n",
       "...                          ...  ...                                                ...\n",
       "34940             zerophilia.txt  ...  Your friend here has an extra chromosome. I te...\n",
       "34941             zerophilia.txt  ...  You've been staring at him all night. You got ...\n",
       "34942             zerophilia.txt  ...             I was lookin' for Luke. How ya' doin'?\n",
       "34943             zerophilia.txt  ...  Come on, let's grab a couple beers. I do love ...\n",
       "34944             zerophilia.txt  ...  Not too practical. But at least now I know. An...\n",
       "\n",
       "[34945 rows x 3 columns]"
      ]
     },
     "metadata": {
      "tags": []
     },
     "execution_count": 54
    }
   ]
  },
  {
   "cell_type": "code",
   "metadata": {
    "id": "_Ck1rzF6v0OV"
   },
   "source": [
    "DF_final.to_csv('/content/drive/MyDrive/LIWC chunks/DFFINAL.csv', header=False, index=False)"
   ],
   "execution_count": null,
   "outputs": []
  },
  {
   "cell_type": "code",
   "metadata": {
    "id": "GluYBrIQDtOT",
    "executionInfo": {
     "status": "ok",
     "timestamp": 1623079516399,
     "user_tz": -120,
     "elapsed": 944,
     "user": {
      "displayName": "Jocelin pitteloud",
      "photoUrl": "",
      "userId": "16272144833403683875"
     }
    }
   },
   "source": [
    "DF_final = pd.read_csv('/content/drive/MyDrive/LIWC chunks/DFFINAL.csv', names=('Movie','Character','Speech'))"
   ],
   "execution_count": 11,
   "outputs": []
  },
  {
   "cell_type": "code",
   "metadata": {
    "colab": {
     "base_uri": "https://localhost:8080/",
     "height": 424
    },
    "id": "x54N_lJaEC4s",
    "executionInfo": {
     "status": "ok",
     "timestamp": 1623079519038,
     "user_tz": -120,
     "elapsed": 378,
     "user": {
      "displayName": "Jocelin pitteloud",
      "photoUrl": "",
      "userId": "16272144833403683875"
     }
    },
    "outputId": "04c2cfe9-6c94-4936-ad5f-ff6447dc181e"
   },
   "source": [
    "DF_final"
   ],
   "execution_count": 12,
   "outputs": [
    {
     "output_type": "execute_result",
     "data": {
      "text/html": [
       "<div>\n",
       "<style scoped>\n",
       "    .dataframe tbody tr th:only-of-type {\n",
       "        vertical-align: middle;\n",
       "    }\n",
       "\n",
       "    .dataframe tbody tr th {\n",
       "        vertical-align: top;\n",
       "    }\n",
       "\n",
       "    .dataframe thead th {\n",
       "        text-align: right;\n",
       "    }\n",
       "</style>\n",
       "<table border=\"1\" class=\"dataframe\">\n",
       "  <thead>\n",
       "    <tr style=\"text-align: right;\">\n",
       "      <th></th>\n",
       "      <th>Movie</th>\n",
       "      <th>Character</th>\n",
       "      <th>Speech</th>\n",
       "    </tr>\n",
       "  </thead>\n",
       "  <tbody>\n",
       "    <tr>\n",
       "      <th>0</th>\n",
       "      <td>10thingsihateaboutyou.txt</td>\n",
       "      <td>RIDER</td>\n",
       "      <td>Hey -- sorry. Hey -- sorry. Hey -- sorry. Hey ...</td>\n",
       "    </tr>\n",
       "    <tr>\n",
       "      <th>1</th>\n",
       "      <td>10thingsihateaboutyou.txt</td>\n",
       "      <td>KAT</td>\n",
       "      <td>Leave it I said, leave it! Why didn't we just ...</td>\n",
       "    </tr>\n",
       "    <tr>\n",
       "      <th>2</th>\n",
       "      <td>10thingsihateaboutyou.txt</td>\n",
       "      <td>BIANCA</td>\n",
       "      <td>Did you change your hair? You might wanna thin...</td>\n",
       "    </tr>\n",
       "    <tr>\n",
       "      <th>3</th>\n",
       "      <td>10thingsihateaboutyou.txt</td>\n",
       "      <td>CHASTITY</td>\n",
       "      <td>No. Who? Great Is he oily or dry? Bianca, I do...</td>\n",
       "    </tr>\n",
       "    <tr>\n",
       "      <th>4</th>\n",
       "      <td>10thingsihateaboutyou.txt</td>\n",
       "      <td>BOY</td>\n",
       "      <td>Hey, Bianca. Hey, Bianca.</td>\n",
       "    </tr>\n",
       "    <tr>\n",
       "      <th>...</th>\n",
       "      <td>...</td>\n",
       "      <td>...</td>\n",
       "      <td>...</td>\n",
       "    </tr>\n",
       "    <tr>\n",
       "      <th>34940</th>\n",
       "      <td>zerophilia.txt</td>\n",
       "      <td>SYDNEY</td>\n",
       "      <td>Your friend here has an extra chromosome. I te...</td>\n",
       "    </tr>\n",
       "    <tr>\n",
       "      <th>34941</th>\n",
       "      <td>zerophilia.txt</td>\n",
       "      <td>JEREMY</td>\n",
       "      <td>You've been staring at him all night. You got ...</td>\n",
       "    </tr>\n",
       "    <tr>\n",
       "      <th>34942</th>\n",
       "      <td>zerophilia.txt</td>\n",
       "      <td>MAX</td>\n",
       "      <td>I was lookin' for Luke. How ya' doin'?</td>\n",
       "    </tr>\n",
       "    <tr>\n",
       "      <th>34943</th>\n",
       "      <td>zerophilia.txt</td>\n",
       "      <td>MALE SYDNEY</td>\n",
       "      <td>Come on, let's grab a couple beers. I do love ...</td>\n",
       "    </tr>\n",
       "    <tr>\n",
       "      <th>34944</th>\n",
       "      <td>zerophilia.txt</td>\n",
       "      <td>LUCA</td>\n",
       "      <td>Not too practical. But at least now I know. An...</td>\n",
       "    </tr>\n",
       "  </tbody>\n",
       "</table>\n",
       "<p>34945 rows × 3 columns</p>\n",
       "</div>"
      ],
      "text/plain": [
       "                           Movie  ...                                             Speech\n",
       "0      10thingsihateaboutyou.txt  ...  Hey -- sorry. Hey -- sorry. Hey -- sorry. Hey ...\n",
       "1      10thingsihateaboutyou.txt  ...  Leave it I said, leave it! Why didn't we just ...\n",
       "2      10thingsihateaboutyou.txt  ...  Did you change your hair? You might wanna thin...\n",
       "3      10thingsihateaboutyou.txt  ...  No. Who? Great Is he oily or dry? Bianca, I do...\n",
       "4      10thingsihateaboutyou.txt  ...                          Hey, Bianca. Hey, Bianca.\n",
       "...                          ...  ...                                                ...\n",
       "34940             zerophilia.txt  ...  Your friend here has an extra chromosome. I te...\n",
       "34941             zerophilia.txt  ...  You've been staring at him all night. You got ...\n",
       "34942             zerophilia.txt  ...             I was lookin' for Luke. How ya' doin'?\n",
       "34943             zerophilia.txt  ...  Come on, let's grab a couple beers. I do love ...\n",
       "34944             zerophilia.txt  ...  Not too practical. But at least now I know. An...\n",
       "\n",
       "[34945 rows x 3 columns]"
      ]
     },
     "metadata": {
      "tags": []
     },
     "execution_count": 12
    }
   ]
  },
  {
   "cell_type": "code",
   "metadata": {
    "id": "O7xDfG3A4FPS"
   },
   "source": [
    "i = 0\n",
    "for row in DF_final.itertuples():\n",
    "  i +=1\n",
    "  print(i)"
   ],
   "execution_count": null,
   "outputs": []
  },
  {
   "cell_type": "code",
   "metadata": {
    "colab": {
     "base_uri": "https://localhost:8080/",
     "height": 49
    },
    "id": "neQDdYta5VkF",
    "executionInfo": {
     "status": "ok",
     "timestamp": 1622908863847,
     "user_tz": -120,
     "elapsed": 719,
     "user": {
      "displayName": "Jocelin pitteloud",
      "photoUrl": "",
      "userId": "16272144833403683875"
     }
    },
    "outputId": "2d1d6805-393f-4a90-f24e-61ed283a88a6"
   },
   "source": [
    "DF_final[DF_final['Character']== 'THIRD DRA']"
   ],
   "execution_count": null,
   "outputs": [
    {
     "output_type": "execute_result",
     "data": {
      "text/html": [
       "<div>\n",
       "<style scoped>\n",
       "    .dataframe tbody tr th:only-of-type {\n",
       "        vertical-align: middle;\n",
       "    }\n",
       "\n",
       "    .dataframe tbody tr th {\n",
       "        vertical-align: top;\n",
       "    }\n",
       "\n",
       "    .dataframe thead th {\n",
       "        text-align: right;\n",
       "    }\n",
       "</style>\n",
       "<table border=\"1\" class=\"dataframe\">\n",
       "  <thead>\n",
       "    <tr style=\"text-align: right;\">\n",
       "      <th></th>\n",
       "      <th>Movie</th>\n",
       "      <th>Character</th>\n",
       "      <th>Speech</th>\n",
       "    </tr>\n",
       "  </thead>\n",
       "  <tbody>\n",
       "  </tbody>\n",
       "</table>\n",
       "</div>"
      ],
      "text/plain": [
       "Empty DataFrame\n",
       "Columns: [Movie, Character, Speech]\n",
       "Index: []"
      ]
     },
     "metadata": {
      "tags": []
     },
     "execution_count": 75
    }
   ]
  },
  {
   "cell_type": "markdown",
   "metadata": {
    "id": "P_0CDvRX1BqQ"
   },
   "source": [
    "enregistrement\n"
   ]
  },
  {
   "cell_type": "code",
   "metadata": {
    "id": "Nljzz_Q41XJC",
    "executionInfo": {
     "status": "ok",
     "timestamp": 1623079614190,
     "user_tz": -120,
     "elapsed": 89103,
     "user": {
      "displayName": "Jocelin pitteloud",
      "photoUrl": "",
      "userId": "16272144833403683875"
     }
    }
   },
   "source": [
    "for row in DF_final.itertuples():\n",
    "  x = re.split(\"\\s\", row.Speech)\n",
    "  \n",
    "  if len(x) >= 50 :\n",
    "    y = re.split(\"\\s\", row.Character)\n",
    "    for ys in y:\n",
    "      ys = re.sub(r'\\W', '', ys)\n",
    "    cha = \" \".join(y)\n",
    "\n",
    "    z = re.split(\"\\s\", row.Movie)\n",
    "    for zs in z:\n",
    "      zs = re.sub(r'\\W', '', zs)\n",
    "    mov = \" \".join(z)\n",
    "\n",
    "    f = open('/content/drive/MyDrive/LIWC chunks/TXT/'+ str(mov)+ ' ' +str(cha)+ '.txt', \"w\")\n",
    "    f.write(row.Speech)\n",
    "    f.close()"
   ],
   "execution_count": 13,
   "outputs": []
  },
  {
   "cell_type": "code",
   "metadata": {
    "id": "UJUWEqN3hZU2"
   },
   "source": [
    "def chunk(seq, size):\n",
    "    return (seq[pos:pos + size] for pos in range(0, len(seq), size))"
   ],
   "execution_count": null,
   "outputs": []
  },
  {
   "cell_type": "code",
   "metadata": {
    "id": "XAnASsUXj6MG"
   },
   "source": [
    "i = 1\n",
    "for df_chunk in chunk(DF_final, 1000):\n",
    "    df_chunk.to_csv('/content/drive/My Drive/LIWC'+str(i)+'.csv', header=False, index=False)\n",
    "    i+= 1\n"
   ],
   "execution_count": null,
   "outputs": []
  },
  {
   "cell_type": "markdown",
   "metadata": {
    "id": "BwR1nauXmPAw"
   },
   "source": [
    "// MBTI"
   ]
  },
  {
   "cell_type": "code",
   "metadata": {
    "id": "Nieqp8jEmRuF"
   },
   "source": [
    "MBTI = pd.read_csv('/content/drive/My Drive/mbti.csv')"
   ],
   "execution_count": null,
   "outputs": []
  },
  {
   "cell_type": "code",
   "metadata": {
    "colab": {
     "base_uri": "https://localhost:8080/",
     "height": 424
    },
    "id": "0mJUvkYrAoL_",
    "executionInfo": {
     "status": "ok",
     "timestamp": 1622910604486,
     "user_tz": -120,
     "elapsed": 3,
     "user": {
      "displayName": "Jocelin pitteloud",
      "photoUrl": "",
      "userId": "16272144833403683875"
     }
    },
    "outputId": "127b30b3-cc98-478e-ce0b-59cb1fab9721"
   },
   "source": [
    "MBTI"
   ],
   "execution_count": null,
   "outputs": [
    {
     "output_type": "execute_result",
     "data": {
      "text/html": [
       "<div>\n",
       "<style scoped>\n",
       "    .dataframe tbody tr th:only-of-type {\n",
       "        vertical-align: middle;\n",
       "    }\n",
       "\n",
       "    .dataframe tbody tr th {\n",
       "        vertical-align: top;\n",
       "    }\n",
       "\n",
       "    .dataframe thead th {\n",
       "        text-align: right;\n",
       "    }\n",
       "</style>\n",
       "<table border=\"1\" class=\"dataframe\">\n",
       "  <thead>\n",
       "    <tr style=\"text-align: right;\">\n",
       "      <th></th>\n",
       "      <th>type</th>\n",
       "      <th>posts</th>\n",
       "    </tr>\n",
       "  </thead>\n",
       "  <tbody>\n",
       "    <tr>\n",
       "      <th>0</th>\n",
       "      <td>INFJ</td>\n",
       "      <td>'http://www.youtube.com/watch?v=qsXHcwe3krw|||...</td>\n",
       "    </tr>\n",
       "    <tr>\n",
       "      <th>1</th>\n",
       "      <td>ENTP</td>\n",
       "      <td>'I'm finding the lack of me in these posts ver...</td>\n",
       "    </tr>\n",
       "    <tr>\n",
       "      <th>2</th>\n",
       "      <td>INTP</td>\n",
       "      <td>'Good one  _____   https://www.youtube.com/wat...</td>\n",
       "    </tr>\n",
       "    <tr>\n",
       "      <th>3</th>\n",
       "      <td>INTJ</td>\n",
       "      <td>'Dear INTP,   I enjoyed our conversation the o...</td>\n",
       "    </tr>\n",
       "    <tr>\n",
       "      <th>4</th>\n",
       "      <td>ENTJ</td>\n",
       "      <td>'You're fired.|||That's another silly misconce...</td>\n",
       "    </tr>\n",
       "    <tr>\n",
       "      <th>...</th>\n",
       "      <td>...</td>\n",
       "      <td>...</td>\n",
       "    </tr>\n",
       "    <tr>\n",
       "      <th>8670</th>\n",
       "      <td>ISFP</td>\n",
       "      <td>'https://www.youtube.com/watch?v=t8edHB_h908||...</td>\n",
       "    </tr>\n",
       "    <tr>\n",
       "      <th>8671</th>\n",
       "      <td>ENFP</td>\n",
       "      <td>'So...if this thread already exists someplace ...</td>\n",
       "    </tr>\n",
       "    <tr>\n",
       "      <th>8672</th>\n",
       "      <td>INTP</td>\n",
       "      <td>'So many questions when i do these things.  I ...</td>\n",
       "    </tr>\n",
       "    <tr>\n",
       "      <th>8673</th>\n",
       "      <td>INFP</td>\n",
       "      <td>'I am very conflicted right now when it comes ...</td>\n",
       "    </tr>\n",
       "    <tr>\n",
       "      <th>8674</th>\n",
       "      <td>INFP</td>\n",
       "      <td>'It has been too long since I have been on per...</td>\n",
       "    </tr>\n",
       "  </tbody>\n",
       "</table>\n",
       "<p>8675 rows × 2 columns</p>\n",
       "</div>"
      ],
      "text/plain": [
       "      type                                              posts\n",
       "0     INFJ  'http://www.youtube.com/watch?v=qsXHcwe3krw|||...\n",
       "1     ENTP  'I'm finding the lack of me in these posts ver...\n",
       "2     INTP  'Good one  _____   https://www.youtube.com/wat...\n",
       "3     INTJ  'Dear INTP,   I enjoyed our conversation the o...\n",
       "4     ENTJ  'You're fired.|||That's another silly misconce...\n",
       "...    ...                                                ...\n",
       "8670  ISFP  'https://www.youtube.com/watch?v=t8edHB_h908||...\n",
       "8671  ENFP  'So...if this thread already exists someplace ...\n",
       "8672  INTP  'So many questions when i do these things.  I ...\n",
       "8673  INFP  'I am very conflicted right now when it comes ...\n",
       "8674  INFP  'It has been too long since I have been on per...\n",
       "\n",
       "[8675 rows x 2 columns]"
      ]
     },
     "metadata": {
      "tags": []
     },
     "execution_count": 89
    }
   ]
  },
  {
   "cell_type": "code",
   "metadata": {
    "id": "PqtZntujAzSQ"
   },
   "source": [
    "i = 0\n",
    "for row in MBTI.itertuples():\n",
    "\n",
    "  posts = re.sub(r'http[s]?://(?:[a-zA-Z]|[0-9]|[$-_@.&+]|[!*\\(\\),]|(?:%[0-9a-fA-F][0-9a-fA-F]))+', '', row.posts)\n",
    "  posts = re.sub(r'[^a-zA-Z0-9 .:/]', ' ', posts)\n",
    "\n",
    "  posts = re.sub(r'\\s+', ' ', posts)\n",
    "\n",
    "  f = open('/content/drive/MyDrive/MBTI_LIWC_Chunks/TXT/MBTI' + str(i) + ' ' + str(row.type) + '.txt', \"w\")\n",
    "  f.write(posts)\n",
    "  f.close()\n",
    "\n",
    "  i +=1"
   ],
   "execution_count": null,
   "outputs": []
  },
  {
   "cell_type": "code",
   "metadata": {
    "colab": {
     "base_uri": "https://localhost:8080/"
    },
    "id": "i1__aEMUCsKd",
    "executionInfo": {
     "status": "ok",
     "timestamp": 1622911153021,
     "user_tz": -120,
     "elapsed": 199,
     "user": {
      "displayName": "Jocelin pitteloud",
      "photoUrl": "",
      "userId": "16272144833403683875"
     }
    },
    "outputId": "588a553b-4880-436f-cd83-b1bb3d9f3fbd"
   },
   "source": [
    "MBTI.posts.head()"
   ],
   "execution_count": null,
   "outputs": [
    {
     "output_type": "execute_result",
     "data": {
      "text/plain": [
       "0    'http://www.youtube.com/watch?v=qsXHcwe3krw|||...\n",
       "1    'I'm finding the lack of me in these posts ver...\n",
       "2    'Good one  _____   https://www.youtube.com/wat...\n",
       "3    'Dear INTP,   I enjoyed our conversation the o...\n",
       "4    'You're fired.|||That's another silly misconce...\n",
       "Name: posts, dtype: object"
      ]
     },
     "metadata": {
      "tags": []
     },
     "execution_count": 97
    }
   ]
  },
  {
   "cell_type": "code",
   "metadata": {
    "id": "k8bDZz4Nm1k3"
   },
   "source": [
    "i = 1\n",
    "for df_chunk in chunk(MBTI, 1000):\n",
    "    df_chunk.to_csv('/content/drive/MyDrive/MBTI_LIWC_Chunks/MBTI_LIWC'+str(i)+'.csv', header=False, index=False)\n",
    "    i+= 1\n"
   ],
   "execution_count": null,
   "outputs": []
  }
 ]
}